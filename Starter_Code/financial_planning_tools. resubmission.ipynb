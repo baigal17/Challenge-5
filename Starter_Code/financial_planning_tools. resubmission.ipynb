{
 "cells": [
  {
   "cell_type": "markdown",
   "metadata": {},
   "source": [
    "# Financial Planning with APIs and Simulations\n",
    "\n",
    "In this Challenge, you’ll create two financial analysis tools by using a single Jupyter notebook:\n",
    "\n",
    "Part 1: A financial planner for emergencies. The members will be able to use this tool to visualize their current savings. The members can then determine if they have enough reserves for an emergency fund.\n",
    "\n",
    "Part 2: A financial planner for retirement. This tool will forecast the performance of their retirement portfolio in 30 years. To do this, the tool will make an Alpaca API call via the Alpaca SDK to get historical price data for use in Monte Carlo simulations.\n",
    "\n",
    "You’ll use the information from the Monte Carlo simulation to answer questions about the portfolio in your Jupyter notebook.\n",
    "\n"
   ]
  },
  {
   "cell_type": "code",
   "execution_count": 2,
   "metadata": {},
   "outputs": [],
   "source": [
    "# Import the required libraries and dependencies\n",
    "import os\n",
    "import requests\n",
    "import json\n",
    "import pandas as pd\n",
    "from dotenv import load_dotenv\n",
    "import alpaca_trade_api as tradeapi\n",
    "from MCForecastTools import MCSimulation\n",
    "\n",
    "%matplotlib inline"
   ]
  },
  {
   "cell_type": "code",
   "execution_count": 3,
   "metadata": {},
   "outputs": [
    {
     "data": {
      "text/plain": [
       "True"
      ]
     },
     "execution_count": 3,
     "metadata": {},
     "output_type": "execute_result"
    }
   ],
   "source": [
    "# Load the environment variables from the .env file\n",
    "#by calling the load_dotenv function\n",
    "load_dotenv()"
   ]
  },
  {
   "cell_type": "markdown",
   "metadata": {},
   "source": [
    "## Part 1: Create a Financial Planner for Emergencies"
   ]
  },
  {
   "cell_type": "markdown",
   "metadata": {},
   "source": [
    "### Evaluate the Cryptocurrency Wallet by Using the Requests Library\n",
    "\n",
    "In this section, you’ll determine the current value of a member’s cryptocurrency wallet. You’ll collect the current prices for the Bitcoin and Ethereum cryptocurrencies by using the Python Requests library. For the prototype, you’ll assume that the member holds the 1.2 Bitcoins (BTC) and 5.3 Ethereum coins (ETH). To do all this, complete the following steps:\n",
    "\n",
    "1. Create a variable named `monthly_income`, and set its value to `12000`.\n",
    "\n",
    "2. Use the Requests library to get the current price (in US dollars) of Bitcoin (BTC) and Ethereum (ETH) by using the API endpoints that the starter code supplies.\n",
    "\n",
    "3. Navigate the JSON response object to access the current price of each coin, and store each in a variable.\n",
    "\n",
    "    > **Hint** Note the specific identifier for each cryptocurrency in the API JSON response. The Bitcoin identifier is `1`, and the Ethereum identifier is `1027`.\n",
    "\n",
    "4. Calculate the value, in US dollars, of the current amount of each cryptocurrency and of the entire cryptocurrency wallet.\n",
    "\n"
   ]
  },
  {
   "cell_type": "code",
   "execution_count": 4,
   "metadata": {},
   "outputs": [],
   "source": [
    "# The current number of coins for each cryptocurrency asset held in the portfolio.\n",
    "btc_coins = 1.2\n",
    "eth_coins = 5.3"
   ]
  },
  {
   "cell_type": "markdown",
   "metadata": {},
   "source": [
    "#### Step 1: Create a variable named `monthly_income`, and set its value to `12000`."
   ]
  },
  {
   "cell_type": "code",
   "execution_count": 5,
   "metadata": {},
   "outputs": [],
   "source": [
    "# The monthly amount for the member's household income\n",
    "monthly_income = 12000\n"
   ]
  },
  {
   "cell_type": "markdown",
   "metadata": {},
   "source": [
    "#### Review the endpoint URLs for the API calls to Free Crypto API in order to get the current pricing information for both BTC and ETH."
   ]
  },
  {
   "cell_type": "code",
   "execution_count": 6,
   "metadata": {},
   "outputs": [],
   "source": [
    "# The Free Crypto API Call endpoint URLs for the held cryptocurrency assets\n",
    "btc_url = \"https://api.alternative.me/v2/ticker/Bitcoin/?convert=USD\"\n",
    "eth_url = \"https://api.alternative.me/v2/ticker/Ethereum/?convert=USD\""
   ]
  },
  {
   "cell_type": "markdown",
   "metadata": {},
   "source": [
    "#### Step 2. Use the Requests library to get the current price (in US dollars) of Bitcoin (BTC) and Ethereum (ETH) by using the API endpoints that the starter code supplied."
   ]
  },
  {
   "cell_type": "code",
   "execution_count": 7,
   "metadata": {},
   "outputs": [
    {
     "name": "stdout",
     "output_type": "stream",
     "text": [
      "{\n",
      "    \"data\": {\n",
      "        \"1\": {\n",
      "            \"circulating_supply\": 18887650,\n",
      "            \"id\": 1,\n",
      "            \"last_updated\": 1638327848,\n",
      "            \"max_supply\": 21000000,\n",
      "            \"name\": \"Bitcoin\",\n",
      "            \"quotes\": {\n",
      "                \"USD\": {\n",
      "                    \"market_cap\": 1084354171564,\n",
      "                    \"percent_change_1h\": 0.557030327426338,\n",
      "                    \"percent_change_24h\": 0.103950850629581,\n",
      "                    \"percent_change_7d\": -0.593009157975222,\n",
      "                    \"percentage_change_1h\": 0.557030327426338,\n",
      "                    \"percentage_change_24h\": 0.103950850629581,\n",
      "                    \"percentage_change_7d\": -0.593009157975222,\n",
      "                    \"price\": 57406.0,\n",
      "                    \"volume_24h\": 35690137422\n",
      "                }\n",
      "            },\n",
      "            \"rank\": 1,\n",
      "            \"symbol\": \"BTC\",\n",
      "            \"total_supply\": 18887650,\n",
      "            \"website_slug\": \"bitcoin\"\n",
      "        }\n",
      "    },\n",
      "    \"metadata\": {\n",
      "        \"error\": null,\n",
      "        \"num_cryptocurrencies\": 3105,\n",
      "        \"timestamp\": 1638327848\n",
      "    }\n",
      "}\n"
     ]
    }
   ],
   "source": [
    "# Using the Python requests library, make an API call to access the current price of BTC\n",
    "btc_response = requests.get(btc_url).json()\n",
    "\n",
    "# Use the json.dumps function to review the response data from the API call\n",
    "# Use the indent and sort_keys parameters to make the response object readable\n",
    "print(json.dumps(btc_response, indent=4, sort_keys=True))\n"
   ]
  },
  {
   "cell_type": "code",
   "execution_count": 8,
   "metadata": {},
   "outputs": [
    {
     "name": "stdout",
     "output_type": "stream",
     "text": [
      "{\n",
      "    \"data\": {\n",
      "        \"1027\": {\n",
      "            \"circulating_supply\": 118557771,\n",
      "            \"id\": 1027,\n",
      "            \"last_updated\": 1638327848,\n",
      "            \"max_supply\": 0,\n",
      "            \"name\": \"Ethereum\",\n",
      "            \"quotes\": {\n",
      "                \"USD\": {\n",
      "                    \"market_cap\": 562522477438,\n",
      "                    \"percent_change_1h\": 1.02906508626162,\n",
      "                    \"percent_change_24h\": 6.29961423226317,\n",
      "                    \"percent_change_7d\": 9.03517918463833,\n",
      "                    \"percentage_change_1h\": 1.02906508626162,\n",
      "                    \"percentage_change_24h\": 6.29961423226317,\n",
      "                    \"percentage_change_7d\": 9.03517918463833,\n",
      "                    \"price\": 4748.94,\n",
      "                    \"volume_24h\": 32250216086\n",
      "                }\n",
      "            },\n",
      "            \"rank\": 2,\n",
      "            \"symbol\": \"ETH\",\n",
      "            \"total_supply\": 118557771,\n",
      "            \"website_slug\": \"ethereum\"\n",
      "        }\n",
      "    },\n",
      "    \"metadata\": {\n",
      "        \"error\": null,\n",
      "        \"num_cryptocurrencies\": 3105,\n",
      "        \"timestamp\": 1638327848\n",
      "    }\n",
      "}\n"
     ]
    }
   ],
   "source": [
    "# Using the Python requests library, make an API call to access the current price ETH\n",
    "eth_response = requests.get(eth_url).json()\n",
    "\n",
    "# Use the json.dumps function to review the response data from the API call\n",
    "# Use the indent and sort_keys parameters to make the response object readable\n",
    "print(json.dumps(eth_response, indent=4, sort_keys=True))\n"
   ]
  },
  {
   "cell_type": "markdown",
   "metadata": {},
   "source": [
    "#### Step 3: Navigate the JSON response object to access the current price of each coin, and store each in a variable."
   ]
  },
  {
   "cell_type": "code",
   "execution_count": 9,
   "metadata": {},
   "outputs": [
    {
     "data": {
      "text/plain": [
       "57406.0"
      ]
     },
     "execution_count": 9,
     "metadata": {},
     "output_type": "execute_result"
    }
   ],
   "source": [
    "# Navigate the BTC response object to access the current price of BTC\n",
    "btc_price = btc_response[\"data\"][\"1\"][\"quotes\"][\"USD\"][\"price\"]\n",
    "\n",
    "# Print the current price of BTC\n",
    "btc_price\n"
   ]
  },
  {
   "cell_type": "code",
   "execution_count": 10,
   "metadata": {},
   "outputs": [
    {
     "data": {
      "text/plain": [
       "4748.94"
      ]
     },
     "execution_count": 10,
     "metadata": {},
     "output_type": "execute_result"
    }
   ],
   "source": [
    "# Navigate the BTC response object to access the current price of ETH\n",
    "eth_price = eth_response[\"data\"][\"1027\"][\"quotes\"][\"USD\"][\"price\"]\n",
    "\n",
    "# Print the current price of ETH\n",
    "eth_price\n"
   ]
  },
  {
   "cell_type": "markdown",
   "metadata": {},
   "source": [
    "### Step 4: Calculate the value, in US dollars, of the current amount of each cryptocurrency and of the entire cryptocurrency wallet."
   ]
  },
  {
   "cell_type": "code",
   "execution_count": 11,
   "metadata": {},
   "outputs": [
    {
     "data": {
      "text/plain": [
       "68887.2"
      ]
     },
     "execution_count": 11,
     "metadata": {},
     "output_type": "execute_result"
    }
   ],
   "source": [
    "# Compute the current value of the BTC holding \n",
    "btc_value = btc_coins * btc_price\n",
    "\n",
    "# Print current value of your holding in BTC\n",
    "btc_value\n"
   ]
  },
  {
   "cell_type": "code",
   "execution_count": 12,
   "metadata": {},
   "outputs": [
    {
     "data": {
      "text/plain": [
       "25169.381999999998"
      ]
     },
     "execution_count": 12,
     "metadata": {},
     "output_type": "execute_result"
    }
   ],
   "source": [
    "# Compute the current value of the ETH holding \n",
    "eth_value = eth_coins * eth_price\n",
    "\n",
    "# Print current value of your holding in ETH\n",
    "eth_value\n"
   ]
  },
  {
   "cell_type": "code",
   "execution_count": 13,
   "metadata": {},
   "outputs": [
    {
     "data": {
      "text/plain": [
       "94056.582"
      ]
     },
     "execution_count": 13,
     "metadata": {},
     "output_type": "execute_result"
    }
   ],
   "source": [
    "# Compute the total value of the cryptocurrency wallet\n",
    "# Add the value of the BTC holding to the value of the ETH holding\n",
    "total_crypto_wallet = eth_value + btc_value\n",
    "\n",
    "# Print current cryptocurrency wallet balance\n",
    "total_crypto_wallet\n"
   ]
  },
  {
   "cell_type": "markdown",
   "metadata": {},
   "source": [
    "### Evaluate the Stock and Bond Holdings by Using the Alpaca SDK\n",
    "\n",
    "In this section, you’ll determine the current value of a member’s stock and bond holdings. You’ll make an API call to Alpaca via the Alpaca SDK to get the current closing prices of the SPDR S&P 500 ETF Trust (ticker: SPY) and of the iShares Core US Aggregate Bond ETF (ticker: AGG). For the prototype, assume that the member holds 110 shares of SPY, which represents the stock portion of their portfolio, and 200 shares of AGG, which represents the bond portion. To do all this, complete the following steps:\n",
    "\n",
    "1. In the `Starter_Code` folder, create an environment file (`.env`) to store the values of your Alpaca API key and Alpaca secret key.\n",
    "\n",
    "2. Set the variables for the Alpaca API and secret keys. Using the Alpaca SDK, create the Alpaca `tradeapi.REST` object. In this object, include the parameters for the Alpaca API key, the secret key, and the version number.\n",
    "\n",
    "3. Set the following parameters for the Alpaca API call:\n",
    "\n",
    "    - `tickers`: Use the tickers for the member’s stock and bond holdings.\n",
    "\n",
    "    - `timeframe`: Use a time frame of one day.\n",
    "\n",
    "    - `start_date` and `end_date`: Use the same date for these parameters, and format them with the date of the previous weekday (or `2020-08-07`). This is because you want the one closing price for the most-recent trading day.\n",
    "\n",
    "4. Get the current closing prices for `SPY` and `AGG` by using the Alpaca `get_barset` function. Format the response as a Pandas DataFrame by including the `df` property at the end of the `get_barset` function.\n",
    "\n",
    "5. Navigating the Alpaca response DataFrame, select the `SPY` and `AGG` closing prices, and store them as variables.\n",
    "\n",
    "6. Calculate the value, in US dollars, of the current amount of shares in each of the stock and bond portions of the portfolio, and print the results.\n"
   ]
  },
  {
   "cell_type": "markdown",
   "metadata": {},
   "source": [
    "#### Review the total number of shares held in both (SPY) and (AGG)."
   ]
  },
  {
   "cell_type": "code",
   "execution_count": 14,
   "metadata": {},
   "outputs": [],
   "source": [
    "# Current amount of shares held in both the stock (SPY) and bond (AGG) portion of the portfolio.\n",
    "spy_shares = 110\n",
    "agg_shares = 200\n"
   ]
  },
  {
   "cell_type": "markdown",
   "metadata": {},
   "source": [
    "#### Step 1: In the `Starter_Code` folder, create an environment file (`.env`) to store the values of your Alpaca API key and Alpaca secret key."
   ]
  },
  {
   "cell_type": "markdown",
   "metadata": {},
   "source": [
    "#### Step 2: Set the variables for the Alpaca API and secret keys. Using the Alpaca SDK, create the Alpaca `tradeapi.REST` object. In this object, include the parameters for the Alpaca API key, the secret key, and the version number."
   ]
  },
  {
   "cell_type": "code",
   "execution_count": 15,
   "metadata": {},
   "outputs": [],
   "source": [
    "# Set the variables for the Alpaca API and secret keys\n",
    "alpaca_api_key=os.getenv(\"ALPACA_API_KEY_ENV\")\n",
    "alpaca_secret_key=os.getenv(\"ALPACA_SECRET_KEY_ENV\")\n",
    "\n",
    "type(alpaca_api_key)\n",
    "type(alpaca_secret_key)\n",
    "\n",
    "# Create the Alpaca tradeapi.REST object\n",
    "alpaca = tradeapi.REST(\n",
    "    alpaca_api_key,\n",
    "    alpaca_secret_key,\n",
    "    api_version=\"v2\")\n",
    "\n"
   ]
  },
  {
   "cell_type": "markdown",
   "metadata": {},
   "source": [
    "\n",
    "#### Step 3: Set the following parameters for the Alpaca API call:\n",
    "\n",
    "- `tickers`: Use the tickers for the member’s stock and bond holdings.\n",
    "\n",
    "- `timeframe`: Use a time frame of one day.\n",
    "\n",
    "- `start_date` and `end_date`: Use the same date for these parameters, and format them with the date of the previous weekday (or `2020-08-07`). This is because you want the one closing price for the most-recent trading day.\n"
   ]
  },
  {
   "cell_type": "code",
   "execution_count": 16,
   "metadata": {},
   "outputs": [],
   "source": [
    "# Set the tickers for both the bond and stock portion of the portfolio\n",
    "tickers = [\"SPY\", \"AGG\"]\n",
    "\n",
    "# Set timeframe to 1D \n",
    "timeframe = \"1D\"\n",
    "\n",
    "# Format current date as ISO format\n",
    "# Set both the start and end date at the date of your prior weekday \n",
    "# This will give you the closing price of the previous trading day\n",
    "# Alternatively you can use a start and end date of 2020-08-07\n",
    "start_date = pd.Timestamp(\"2020-08-07\", tz=\"America/New_York\").isoformat()\n",
    "end_date = pd.Timestamp(\"2020-08-07\", tz=\"America/New_York\").isoformat()\n"
   ]
  },
  {
   "cell_type": "markdown",
   "metadata": {},
   "source": [
    "#### Step 4: Get the current closing prices for `SPY` and `AGG` by using the Alpaca `get_barset` function. Format the response as a Pandas DataFrame by including the `df` property at the end of the `get_barset` function."
   ]
  },
  {
   "cell_type": "code",
   "execution_count": 17,
   "metadata": {},
   "outputs": [
    {
     "data": {
      "text/html": [
       "<div>\n",
       "<style scoped>\n",
       "    .dataframe tbody tr th:only-of-type {\n",
       "        vertical-align: middle;\n",
       "    }\n",
       "\n",
       "    .dataframe tbody tr th {\n",
       "        vertical-align: top;\n",
       "    }\n",
       "\n",
       "    .dataframe thead tr th {\n",
       "        text-align: left;\n",
       "    }\n",
       "\n",
       "    .dataframe thead tr:last-of-type th {\n",
       "        text-align: right;\n",
       "    }\n",
       "</style>\n",
       "<table border=\"1\" class=\"dataframe\">\n",
       "  <thead>\n",
       "    <tr>\n",
       "      <th></th>\n",
       "      <th colspan=\"5\" halign=\"left\">AGG</th>\n",
       "      <th colspan=\"5\" halign=\"left\">SPY</th>\n",
       "    </tr>\n",
       "    <tr>\n",
       "      <th></th>\n",
       "      <th>open</th>\n",
       "      <th>high</th>\n",
       "      <th>low</th>\n",
       "      <th>close</th>\n",
       "      <th>volume</th>\n",
       "      <th>open</th>\n",
       "      <th>high</th>\n",
       "      <th>low</th>\n",
       "      <th>close</th>\n",
       "      <th>volume</th>\n",
       "    </tr>\n",
       "    <tr>\n",
       "      <th>time</th>\n",
       "      <th></th>\n",
       "      <th></th>\n",
       "      <th></th>\n",
       "      <th></th>\n",
       "      <th></th>\n",
       "      <th></th>\n",
       "      <th></th>\n",
       "      <th></th>\n",
       "      <th></th>\n",
       "      <th></th>\n",
       "    </tr>\n",
       "  </thead>\n",
       "  <tbody>\n",
       "    <tr>\n",
       "      <th>2020-08-07 00:00:00-04:00</th>\n",
       "      <td>119.66</td>\n",
       "      <td>119.73</td>\n",
       "      <td>119.395</td>\n",
       "      <td>119.445</td>\n",
       "      <td>8830420</td>\n",
       "      <td>333.28</td>\n",
       "      <td>334.88</td>\n",
       "      <td>332.3</td>\n",
       "      <td>334.55</td>\n",
       "      <td>98710236</td>\n",
       "    </tr>\n",
       "  </tbody>\n",
       "</table>\n",
       "</div>"
      ],
      "text/plain": [
       "                              AGG                                        SPY  \\\n",
       "                             open    high      low    close   volume    open   \n",
       "time                                                                           \n",
       "2020-08-07 00:00:00-04:00  119.66  119.73  119.395  119.445  8830420  333.28   \n",
       "\n",
       "                                                            \n",
       "                             high    low   close    volume  \n",
       "time                                                        \n",
       "2020-08-07 00:00:00-04:00  334.88  332.3  334.55  98710236  "
      ]
     },
     "execution_count": 17,
     "metadata": {},
     "output_type": "execute_result"
    }
   ],
   "source": [
    "# Use the Alpaca get_barset function to get current closing prices the portfolio\n",
    "# Be sure to set the `df` property after the function to format the response object as a DataFrame\n",
    "\n",
    "prices_df=alpaca.get_barset(\n",
    "    tickers, \n",
    "    timeframe, \n",
    "    start=start_date, \n",
    "    end=end_date\n",
    ").df\n",
    "\n",
    "# Review the first 5 rows of the Alpaca DataFrame\n",
    "prices_df.head()"
   ]
  },
  {
   "cell_type": "markdown",
   "metadata": {},
   "source": [
    "#### Step 5: Navigating the Alpaca response DataFrame, select the `SPY` and `AGG` closing prices, and store them as variables."
   ]
  },
  {
   "cell_type": "code",
   "execution_count": 18,
   "metadata": {},
   "outputs": [
    {
     "data": {
      "text/plain": [
       "119.445"
      ]
     },
     "execution_count": 18,
     "metadata": {},
     "output_type": "execute_result"
    }
   ],
   "source": [
    "# Access the closing price for AGG from the Alpaca DataFrame\n",
    "# Converting the value to a floating point number\n",
    "agg_close_price = float(prices_df[\"AGG\"][\"close\"])\n",
    "\n",
    "# Print the AGG closing price\n",
    "agg_close_price\n",
    "\n"
   ]
  },
  {
   "cell_type": "code",
   "execution_count": 19,
   "metadata": {},
   "outputs": [
    {
     "data": {
      "text/plain": [
       "334.55"
      ]
     },
     "execution_count": 19,
     "metadata": {},
     "output_type": "execute_result"
    }
   ],
   "source": [
    "# Access the closing price for SPY from the Alpaca DataFrame\n",
    "# Converting the value to a floating point number\n",
    "spy_close_price = float(prices_df[\"SPY\"][\"close\"])\n",
    "\n",
    "# Print the SPY closing p\n",
    "spy_close_price"
   ]
  },
  {
   "cell_type": "markdown",
   "metadata": {},
   "source": [
    "#### Step 6: Calculate the value, in US dollars, of the current amount of shares in each of the stock and bond portions of the portfolio, and print the results."
   ]
  },
  {
   "cell_type": "code",
   "execution_count": 20,
   "metadata": {},
   "outputs": [
    {
     "name": "stdout",
     "output_type": "stream",
     "text": [
      "23889.0\n"
     ]
    }
   ],
   "source": [
    "# Calculate the current value of the bond portion of the portfolio\n",
    "agg_value = agg_shares * agg_close_price\n",
    "\n",
    "# Print the current value of the bond portfolio\n",
    "print(agg_value)\n"
   ]
  },
  {
   "cell_type": "code",
   "execution_count": 21,
   "metadata": {},
   "outputs": [
    {
     "name": "stdout",
     "output_type": "stream",
     "text": [
      "36800.5\n"
     ]
    }
   ],
   "source": [
    "# Calculate the current value of the stock portion of the portfolio\n",
    "spy_value = spy_shares * spy_close_price\n",
    "\n",
    "# Print the current value of the stock portfolio\n",
    "print(spy_value)\n"
   ]
  },
  {
   "cell_type": "code",
   "execution_count": 22,
   "metadata": {},
   "outputs": [
    {
     "name": "stdout",
     "output_type": "stream",
     "text": [
      "60689.5\n"
     ]
    }
   ],
   "source": [
    "# Calculate the total value of the stock and bond portion of the portfolio\n",
    "total_stocks_bonds = agg_value + spy_value\n",
    "\n",
    "# Print the current balance of the stock and bond portion of the portfolio\n",
    "print(total_stocks_bonds)\n"
   ]
  },
  {
   "cell_type": "code",
   "execution_count": 23,
   "metadata": {},
   "outputs": [
    {
     "name": "stdout",
     "output_type": "stream",
     "text": [
      "154746.082\n"
     ]
    }
   ],
   "source": [
    "# Calculate the total value of the member's entire savings portfolio\n",
    "# Add the value of the cryptocurrency walled to the value of the total stocks and bonds\n",
    "total_portfolio = total_crypto_wallet+total_stocks_bonds \n",
    "\n",
    "# Print current cryptocurrency wallet balance\n",
    "print(total_portfolio)\n"
   ]
  },
  {
   "cell_type": "markdown",
   "metadata": {},
   "source": [
    "### Evaluate the Emergency Fund\n",
    "\n",
    "In this section, you’ll use the valuations for the cryptocurrency wallet and for the stock and bond portions of the portfolio to determine if the credit union member has enough savings to build an emergency fund into their financial plan. To do this, complete the following steps:\n",
    "\n",
    "1. Create a Python list named `savings_data` that has two elements. The first element contains the total value of the cryptocurrency wallet. The second element contains the total value of the stock and bond portions of the portfolio.\n",
    "\n",
    "2. Use the `savings_data` list to create a Pandas DataFrame named `savings_df`, and then display this DataFrame. The function to create the DataFrame should take the following three parameters:\n",
    "\n",
    "    - `savings_data`: Use the list that you just created.\n",
    "\n",
    "    - `columns`: Set this parameter equal to a Python list with a single value called `amount`.\n",
    "\n",
    "    - `index`: Set this parameter equal to a Python list with the values of `crypto` and `stock/bond`.\n",
    "\n",
    "3. Use the `savings_df` DataFrame to plot a pie chart that visualizes the composition of the member’s portfolio. The y-axis of the pie chart uses `amount`. Be sure to add a title.\n",
    "\n",
    "4. Using Python, determine if the current portfolio has enough to create an emergency fund as part of the member’s financial plan. Ideally, an emergency fund should equal to three times the member’s monthly income. To do this, implement the following steps:\n",
    "\n",
    "    1. Create a variable named `emergency_fund_value`, and set it equal to three times the value of the member’s `monthly_income` of $12000. (You set this earlier in Part 1).\n",
    "\n",
    "    2. Create a series of three if statements to determine if the member’s total portfolio is large enough to fund the emergency portfolio:\n",
    "\n",
    "        1. If the total portfolio value is greater than the emergency fund value, display a message congratulating the member for having enough money in this fund.\n",
    "\n",
    "        2. Else if the total portfolio value is equal to the emergency fund value, display a message congratulating the member on reaching this important financial goal.\n",
    "\n",
    "        3. Else the total portfolio is less than the emergency fund value, so display a message showing how many dollars away the member is from reaching the goal. (Subtract the total portfolio value from the emergency fund value.)\n"
   ]
  },
  {
   "cell_type": "markdown",
   "metadata": {},
   "source": [
    "#### Step 1: Create a Python list named `savings_data` that has two elements. The first element contains the total value of the cryptocurrency wallet. The second element contains the total value of the stock and bond portions of the portfolio."
   ]
  },
  {
   "cell_type": "code",
   "execution_count": 24,
   "metadata": {},
   "outputs": [
    {
     "name": "stdout",
     "output_type": "stream",
     "text": [
      "[94056.582, 60689.5]\n"
     ]
    }
   ],
   "source": [
    "# Consolidate financial assets data into a Python list\n",
    "savings_data=[total_crypto_wallet, total_stocks_bonds]\n",
    "\n",
    "# Review the Python list savings_data\n",
    "print(savings_data)\n",
    "    "
   ]
  },
  {
   "cell_type": "markdown",
   "metadata": {},
   "source": [
    "#### Step 2: Use the `savings_data` list to create a Pandas DataFrame named `savings_df`, and then display this DataFrame. The function to create the DataFrame should take the following three parameters:\n",
    "\n",
    "- `savings_data`: Use the list that you just created.\n",
    "\n",
    "- `columns`: Set this parameter equal to a Python list with a single value called `amount`.\n",
    "\n",
    "- `index`: Set this parameter equal to a Python list with the values of `crypto` and `stock/bond`.\n"
   ]
  },
  {
   "cell_type": "code",
   "execution_count": 25,
   "metadata": {},
   "outputs": [
    {
     "data": {
      "text/html": [
       "<div>\n",
       "<style scoped>\n",
       "    .dataframe tbody tr th:only-of-type {\n",
       "        vertical-align: middle;\n",
       "    }\n",
       "\n",
       "    .dataframe tbody tr th {\n",
       "        vertical-align: top;\n",
       "    }\n",
       "\n",
       "    .dataframe thead th {\n",
       "        text-align: right;\n",
       "    }\n",
       "</style>\n",
       "<table border=\"1\" class=\"dataframe\">\n",
       "  <thead>\n",
       "    <tr style=\"text-align: right;\">\n",
       "      <th></th>\n",
       "      <th>amount</th>\n",
       "    </tr>\n",
       "  </thead>\n",
       "  <tbody>\n",
       "    <tr>\n",
       "      <th>crypto</th>\n",
       "      <td>94056.582</td>\n",
       "    </tr>\n",
       "    <tr>\n",
       "      <th>stock/bond</th>\n",
       "      <td>60689.500</td>\n",
       "    </tr>\n",
       "  </tbody>\n",
       "</table>\n",
       "</div>"
      ],
      "text/plain": [
       "               amount\n",
       "crypto      94056.582\n",
       "stock/bond  60689.500"
      ]
     },
     "execution_count": 25,
     "metadata": {},
     "output_type": "execute_result"
    }
   ],
   "source": [
    "# Create a Pandas DataFrame called savings_df \n",
    "index_rows=[\"crypto\", \"stock/bond\"]\n",
    "savings_df = pd.DataFrame(savings_data, columns=[\"amount\"], index=index_rows)\n",
    "\n",
    "\n",
    "# Display the savings_df DataFrame\n",
    "savings_df\n"
   ]
  },
  {
   "cell_type": "markdown",
   "metadata": {},
   "source": [
    "#### Step 3: Use the `savings_df` DataFrame to plot a pie chart that visualizes the composition of the member’s portfolio. The y-axis of the pie chart uses `amount`. Be sure to add a title."
   ]
  },
  {
   "cell_type": "code",
   "execution_count": 26,
   "metadata": {},
   "outputs": [
    {
     "data": {
      "text/plain": [
       "<AxesSubplot:title={'center':'Portfolio Composition'}, ylabel='amount'>"
      ]
     },
     "execution_count": 26,
     "metadata": {},
     "output_type": "execute_result"
    },
    {
     "data": {
      "image/png": "[encoded data removed]",
      "text/plain": [
       "<Figure size 432x288 with 1 Axes>"
      ]
     },
     "metadata": {},
     "output_type": "display_data"
    }
   ],
   "source": [
    "# Plot the total value of the member's portfolio (crypto and stock/bond) in a pie chart\n",
    "savings_df.plot.pie(y=\"amount\", title=\"Portfolio Composition\")"
   ]
  },
  {
   "cell_type": "markdown",
   "metadata": {},
   "source": [
    "#### Step 4: Using Python, determine if the current portfolio has enough to create an emergency fund as part of the member’s financial plan. Ideally, an emergency fund should equal to three times the member’s monthly income. To do this, implement the following steps:\n",
    "\n",
    "Step 1. Create a variable named `emergency_fund_value`, and set it equal to three times the value of the member’s `monthly_income` of 12000. (You set this earlier in Part 1).\n",
    "\n",
    "Step 2. Create a series of three if statements to determine if the member’s total portfolio is large enough to fund the emergency portfolio:\n",
    "\n",
    "* If the total portfolio value is greater than the emergency fund value, display a message congratulating the member for having enough money in this fund.\n",
    "\n",
    "* Else if the total portfolio value is equal to the emergency fund value, display a message congratulating the member on reaching this important financial goal.\n",
    "\n",
    "* Else the total portfolio is less than the emergency fund value, so display a message showing how many dollars away the member is from reaching the goal. (Subtract the total portfolio value from the emergency fund value.)\n"
   ]
  },
  {
   "cell_type": "markdown",
   "metadata": {},
   "source": [
    "##### Step 4-1: Create a variable named `emergency_fund_value`, and set it equal to three times the value of the member’s `monthly_income` of 12000. (You set this earlier in Part 1)."
   ]
  },
  {
   "cell_type": "code",
   "execution_count": 27,
   "metadata": {},
   "outputs": [],
   "source": [
    "# Create a variable named emergency_fund_value\n",
    "emergency_fund_value = monthly_income * 3 \n"
   ]
  },
  {
   "cell_type": "markdown",
   "metadata": {},
   "source": [
    "##### Step 4-2: Create a series of three if statements to determine if the member’s total portfolio is large enough to fund the emergency portfolio:\n",
    "\n",
    "* If the total portfolio value is greater than the emergency fund value, display a message congratulating the member for having enough money in this fund.\n",
    "\n",
    "* Else if the total portfolio value is equal to the emergency fund value, display a message congratulating the member on reaching this important financial goal.\n",
    "\n",
    "* Else the total portfolio is less than the emergency fund value, so display a message showing how many dollars away the member is from reaching the goal. (Subtract the total portfolio value from the emergency fund value.)"
   ]
  },
  {
   "cell_type": "code",
   "execution_count": 28,
   "metadata": {},
   "outputs": [
    {
     "name": "stdout",
     "output_type": "stream",
     "text": [
      "Congratulations, you have enough money in the fund.\n"
     ]
    }
   ],
   "source": [
    "# Evaluate the possibility of creating an emergency fund with 3 conditions:\n",
    "if total_portfolio > emergency_fund_value:\n",
    "    print(f\"Congratulations, you have enough money in the fund.\")\n",
    "elif total_portfolio == emergency_fund_value:\n",
    "    print(f\"Congratulations, you reached this important financial goal\")\n",
    "else:\n",
    "    print(f\"You are ${emergency_fund_value - total_portfolio} away from reaching your goal\")\n"
   ]
  },
  {
   "cell_type": "markdown",
   "metadata": {},
   "source": [
    "## Part 2: Create a Financial Planner for Retirement"
   ]
  },
  {
   "cell_type": "markdown",
   "metadata": {},
   "source": [
    "### Create the Monte Carlo Simulation\n",
    "\n",
    "In this section, you’ll use the MCForecastTools library to create a Monte Carlo simulation for the member’s savings portfolio. To do this, complete the following steps:\n",
    "\n",
    "1. Make an API call via the Alpaca SDK to get 3 years of historical closing prices for a traditional 60/40 portfolio split: 60% stocks (SPY) and 40% bonds (AGG).\n",
    "\n",
    "2. Run a Monte Carlo simulation of 500 samples and 30 years for the 60/40 portfolio, and then plot the results.The following image shows the overlay line plot resulting from a simulation with these characteristics. However, because a random number generator is used to run each live Monte Carlo simulation, your image will differ slightly from this exact image:\n",
    "\n",
    "![A screenshot depicts the resulting plot.](Images/5-4-monte-carlo-line-plot.png)\n",
    "\n",
    "3. Plot the probability distribution of the Monte Carlo simulation. Plot the probability distribution of the Monte Carlo simulation. The following image shows the histogram plot resulting from a simulation with these characteristics. However, because a random number generator is used to run each live Monte Carlo simulation, your image will differ slightly from this exact image:\n",
    "\n",
    "![A screenshot depicts the histogram plot.](Images/5-4-monte-carlo-histogram.png)\n",
    "\n",
    "4. Generate the summary statistics for the Monte Carlo simulation.\n",
    "\n"
   ]
  },
  {
   "cell_type": "markdown",
   "metadata": {},
   "source": [
    "#### Step 1: Make an API call via the Alpaca SDK to get 3 years of historical closing prices for a traditional 60/40 portfolio split: 60% stocks (SPY) and 40% bonds (AGG)."
   ]
  },
  {
   "cell_type": "code",
   "execution_count": 29,
   "metadata": {},
   "outputs": [],
   "source": [
    "# Set start and end dates of 3 years back from your current date\n",
    "# Alternatively, you can use an end date of 2020-08-07 and work 3 years back from that date \n",
    "start_date= pd.Timestamp(\"2017-05-01\", tz=\"America/New_York\").isoformat()\n",
    "end_date = pd.Timestamp(\"2020-08-07\", tz=\"America/New_York\").isoformat()\n",
    "\n",
    "# Set number of rows to 1000 to retrieve the maximum amount of rows\n",
    "limit_rows = 1000"
   ]
  },
  {
   "cell_type": "code",
   "execution_count": 30,
   "metadata": {},
   "outputs": [
    {
     "name": "stdout",
     "output_type": "stream",
     "text": [
      "                              AGG                                         \\\n",
      "                             open      high      low    close     volume   \n",
      "time                                                                       \n",
      "2017-05-01 00:00:00-04:00  108.86  108.9599  108.620  108.735  2335646.0   \n",
      "2017-05-02 00:00:00-04:00  108.68  108.9400  108.679  108.890  2570794.0   \n",
      "2017-05-03 00:00:00-04:00  108.97  108.9900  108.770  108.795  1765578.0   \n",
      "2017-05-04 00:00:00-04:00  108.55  108.7000  108.550  108.665  1789624.0   \n",
      "2017-05-05 00:00:00-04:00  108.72  108.7400  108.570  108.720  1287794.0   \n",
      "\n",
      "                              SPY                                       \n",
      "                             open      high      low   close    volume  \n",
      "time                                                                    \n",
      "2017-05-01 00:00:00-04:00  238.69  239.1700  238.195  238.65  38750688  \n",
      "2017-05-02 00:00:00-04:00  238.84  238.9800  238.300  238.79  39563850  \n",
      "2017-05-03 00:00:00-04:00  238.32  238.8775  237.700  238.52  47292627  \n",
      "2017-05-04 00:00:00-04:00  238.83  238.9225  237.780  238.75  46170233  \n",
      "2017-05-05 00:00:00-04:00  239.18  239.7200  238.680  239.72  43733544  \n"
     ]
    },
    {
     "data": {
      "text/plain": [
       "None"
      ]
     },
     "metadata": {},
     "output_type": "display_data"
    },
    {
     "name": "stdout",
     "output_type": "stream",
     "text": [
      "                              AGG                                         \\\n",
      "                             open    high       low    close      volume   \n",
      "time                                                                       \n",
      "2020-08-03 00:00:00-04:00  119.37  119.40  119.1903  119.400  17837420.0   \n",
      "2020-08-04 00:00:00-04:00  119.42  119.63  119.4200  119.630  21512268.0   \n",
      "2020-08-05 00:00:00-04:00  119.39  119.49  119.3100  119.400  34175883.0   \n",
      "2020-08-06 00:00:00-04:00  119.62  119.73  119.5300  119.580   9009216.0   \n",
      "2020-08-07 00:00:00-04:00  119.66  119.73  119.3950  119.445   8830420.0   \n",
      "\n",
      "                                SPY                                    \n",
      "                               open    high     low   close    volume  \n",
      "time                                                                   \n",
      "2020-08-03 00:00:00-04:00  328.3200  329.62  327.73  328.76  71741125  \n",
      "2020-08-04 00:00:00-04:00  327.8600  330.06  327.86  330.03  73684427  \n",
      "2020-08-05 00:00:00-04:00  331.4700  332.39  331.18  332.06  72846458  \n",
      "2020-08-06 00:00:00-04:00  331.4799  334.46  331.13  334.31  76900649  \n",
      "2020-08-07 00:00:00-04:00  333.2800  334.88  332.30  334.55  98710236  \n"
     ]
    },
    {
     "data": {
      "text/plain": [
       "None"
      ]
     },
     "metadata": {},
     "output_type": "display_data"
    }
   ],
   "source": [
    "# Use the Alpaca get_barset function to make the API call to get the 3 years worth of pricing data\n",
    "# The tickers and timeframe parameters should have been set in Part 1 of this activity \n",
    "# The start and end dates should be updated with the information set above\n",
    "# Remember to add the df property to the end of the call so the response is returned as a DataFrame\n",
    "pricing_df = alpaca.get_barset(\n",
    "    tickers,\n",
    "    timeframe,\n",
    "    start = start_date,\n",
    "    end = end_date,\n",
    "    limit = limit_rows\n",
    ").df\n",
    "\n",
    "\n",
    "# Display both the first and last five rows of the DataFrame\n",
    "display(print(pricing_df.head()))\n",
    "display(print(pricing_df.tail()))"
   ]
  },
  {
   "cell_type": "markdown",
   "metadata": {},
   "source": [
    "#### Step 2: Run a Monte Carlo simulation of 500 samples and 30 years for the 60/40 portfolio, and then plot the results."
   ]
  },
  {
   "cell_type": "code",
   "execution_count": 35,
   "metadata": {},
   "outputs": [
    {
     "data": {
      "text/html": [
       "<div>\n",
       "<style scoped>\n",
       "    .dataframe tbody tr th:only-of-type {\n",
       "        vertical-align: middle;\n",
       "    }\n",
       "\n",
       "    .dataframe tbody tr th {\n",
       "        vertical-align: top;\n",
       "    }\n",
       "\n",
       "    .dataframe thead tr th {\n",
       "        text-align: left;\n",
       "    }\n",
       "\n",
       "    .dataframe thead tr:last-of-type th {\n",
       "        text-align: right;\n",
       "    }\n",
       "</style>\n",
       "<table border=\"1\" class=\"dataframe\">\n",
       "  <thead>\n",
       "    <tr>\n",
       "      <th></th>\n",
       "      <th colspan=\"6\" halign=\"left\">AGG</th>\n",
       "      <th colspan=\"6\" halign=\"left\">SPY</th>\n",
       "    </tr>\n",
       "    <tr>\n",
       "      <th></th>\n",
       "      <th>open</th>\n",
       "      <th>high</th>\n",
       "      <th>low</th>\n",
       "      <th>close</th>\n",
       "      <th>volume</th>\n",
       "      <th>daily_return</th>\n",
       "      <th>open</th>\n",
       "      <th>high</th>\n",
       "      <th>low</th>\n",
       "      <th>close</th>\n",
       "      <th>volume</th>\n",
       "      <th>daily_return</th>\n",
       "    </tr>\n",
       "    <tr>\n",
       "      <th>time</th>\n",
       "      <th></th>\n",
       "      <th></th>\n",
       "      <th></th>\n",
       "      <th></th>\n",
       "      <th></th>\n",
       "      <th></th>\n",
       "      <th></th>\n",
       "      <th></th>\n",
       "      <th></th>\n",
       "      <th></th>\n",
       "      <th></th>\n",
       "      <th></th>\n",
       "    </tr>\n",
       "  </thead>\n",
       "  <tbody>\n",
       "    <tr>\n",
       "      <th>2017-05-01 00:00:00-04:00</th>\n",
       "      <td>108.86</td>\n",
       "      <td>108.9599</td>\n",
       "      <td>108.620</td>\n",
       "      <td>108.735</td>\n",
       "      <td>2335646.0</td>\n",
       "      <td>NaN</td>\n",
       "      <td>238.69</td>\n",
       "      <td>239.1700</td>\n",
       "      <td>238.195</td>\n",
       "      <td>238.65</td>\n",
       "      <td>38750688</td>\n",
       "      <td>NaN</td>\n",
       "    </tr>\n",
       "    <tr>\n",
       "      <th>2017-05-02 00:00:00-04:00</th>\n",
       "      <td>108.68</td>\n",
       "      <td>108.9400</td>\n",
       "      <td>108.679</td>\n",
       "      <td>108.890</td>\n",
       "      <td>2570794.0</td>\n",
       "      <td>0.001425</td>\n",
       "      <td>238.84</td>\n",
       "      <td>238.9800</td>\n",
       "      <td>238.300</td>\n",
       "      <td>238.79</td>\n",
       "      <td>39563850</td>\n",
       "      <td>0.000587</td>\n",
       "    </tr>\n",
       "    <tr>\n",
       "      <th>2017-05-03 00:00:00-04:00</th>\n",
       "      <td>108.97</td>\n",
       "      <td>108.9900</td>\n",
       "      <td>108.770</td>\n",
       "      <td>108.795</td>\n",
       "      <td>1765578.0</td>\n",
       "      <td>-0.000872</td>\n",
       "      <td>238.32</td>\n",
       "      <td>238.8775</td>\n",
       "      <td>237.700</td>\n",
       "      <td>238.52</td>\n",
       "      <td>47292627</td>\n",
       "      <td>-0.001131</td>\n",
       "    </tr>\n",
       "    <tr>\n",
       "      <th>2017-05-04 00:00:00-04:00</th>\n",
       "      <td>108.55</td>\n",
       "      <td>108.7000</td>\n",
       "      <td>108.550</td>\n",
       "      <td>108.665</td>\n",
       "      <td>1789624.0</td>\n",
       "      <td>-0.001195</td>\n",
       "      <td>238.83</td>\n",
       "      <td>238.9225</td>\n",
       "      <td>237.780</td>\n",
       "      <td>238.75</td>\n",
       "      <td>46170233</td>\n",
       "      <td>0.000964</td>\n",
       "    </tr>\n",
       "    <tr>\n",
       "      <th>2017-05-05 00:00:00-04:00</th>\n",
       "      <td>108.72</td>\n",
       "      <td>108.7400</td>\n",
       "      <td>108.570</td>\n",
       "      <td>108.720</td>\n",
       "      <td>1287794.0</td>\n",
       "      <td>0.000506</td>\n",
       "      <td>239.18</td>\n",
       "      <td>239.7200</td>\n",
       "      <td>238.680</td>\n",
       "      <td>239.72</td>\n",
       "      <td>43733544</td>\n",
       "      <td>0.004063</td>\n",
       "    </tr>\n",
       "  </tbody>\n",
       "</table>\n",
       "</div>"
      ],
      "text/plain": [
       "                              AGG                                         \\\n",
       "                             open      high      low    close     volume   \n",
       "time                                                                       \n",
       "2017-05-01 00:00:00-04:00  108.86  108.9599  108.620  108.735  2335646.0   \n",
       "2017-05-02 00:00:00-04:00  108.68  108.9400  108.679  108.890  2570794.0   \n",
       "2017-05-03 00:00:00-04:00  108.97  108.9900  108.770  108.795  1765578.0   \n",
       "2017-05-04 00:00:00-04:00  108.55  108.7000  108.550  108.665  1789624.0   \n",
       "2017-05-05 00:00:00-04:00  108.72  108.7400  108.570  108.720  1287794.0   \n",
       "\n",
       "                                           SPY                             \\\n",
       "                          daily_return    open      high      low   close   \n",
       "time                                                                        \n",
       "2017-05-01 00:00:00-04:00          NaN  238.69  239.1700  238.195  238.65   \n",
       "2017-05-02 00:00:00-04:00     0.001425  238.84  238.9800  238.300  238.79   \n",
       "2017-05-03 00:00:00-04:00    -0.000872  238.32  238.8775  237.700  238.52   \n",
       "2017-05-04 00:00:00-04:00    -0.001195  238.83  238.9225  237.780  238.75   \n",
       "2017-05-05 00:00:00-04:00     0.000506  239.18  239.7200  238.680  239.72   \n",
       "\n",
       "                                                  \n",
       "                             volume daily_return  \n",
       "time                                              \n",
       "2017-05-01 00:00:00-04:00  38750688          NaN  \n",
       "2017-05-02 00:00:00-04:00  39563850     0.000587  \n",
       "2017-05-03 00:00:00-04:00  47292627    -0.001131  \n",
       "2017-05-04 00:00:00-04:00  46170233     0.000964  \n",
       "2017-05-05 00:00:00-04:00  43733544     0.004063  "
      ]
     },
     "execution_count": 35,
     "metadata": {},
     "output_type": "execute_result"
    }
   ],
   "source": [
    "# Configure the Monte Carlo simulation to forecast 30 years cumulative returns\n",
    "# The weights should be split 40% to AGG and 60% to SPY.\n",
    "# Run 500 samples.\n",
    "MC_30year  = MCSimulation(\n",
    "    portfolio_data = pricing_df,\n",
    "    weights = [.40, .60],\n",
    "    num_simulation = 500,\n",
    "    num_trading_days = 252 * 30\n",
    ")\n",
    "\n",
    "# Review the simulation input data\n",
    "MC_30year.portfolio_data.head()\n"
   ]
  },
  {
   "cell_type": "code",
   "execution_count": 32,
   "metadata": {},
   "outputs": [
    {
     "name": "stdout",
     "output_type": "stream",
     "text": [
      "Running Monte Carlo simulation number 0.\n",
      "Running Monte Carlo simulation number 10.\n",
      "Running Monte Carlo simulation number 20.\n",
      "Running Monte Carlo simulation number 30.\n",
      "Running Monte Carlo simulation number 40.\n",
      "Running Monte Carlo simulation number 50.\n",
      "Running Monte Carlo simulation number 60.\n",
      "Running Monte Carlo simulation number 70.\n",
      "Running Monte Carlo simulation number 80.\n",
      "Running Monte Carlo simulation number 90.\n",
      "Running Monte Carlo simulation number 100.\n",
      "Running Monte Carlo simulation number 110.\n",
      "Running Monte Carlo simulation number 120.\n",
      "Running Monte Carlo simulation number 130.\n",
      "Running Monte Carlo simulation number 140.\n",
      "Running Monte Carlo simulation number 150.\n",
      "Running Monte Carlo simulation number 160.\n",
      "Running Monte Carlo simulation number 170.\n",
      "Running Monte Carlo simulation number 180.\n",
      "Running Monte Carlo simulation number 190.\n",
      "Running Monte Carlo simulation number 200.\n",
      "Running Monte Carlo simulation number 210.\n",
      "Running Monte Carlo simulation number 220.\n",
      "Running Monte Carlo simulation number 230.\n",
      "Running Monte Carlo simulation number 240.\n",
      "Running Monte Carlo simulation number 250.\n",
      "Running Monte Carlo simulation number 260.\n",
      "Running Monte Carlo simulation number 270.\n",
      "Running Monte Carlo simulation number 280.\n",
      "Running Monte Carlo simulation number 290.\n",
      "Running Monte Carlo simulation number 300.\n",
      "Running Monte Carlo simulation number 310.\n",
      "Running Monte Carlo simulation number 320.\n",
      "Running Monte Carlo simulation number 330.\n",
      "Running Monte Carlo simulation number 340.\n",
      "Running Monte Carlo simulation number 350.\n",
      "Running Monte Carlo simulation number 360.\n",
      "Running Monte Carlo simulation number 370.\n",
      "Running Monte Carlo simulation number 380.\n",
      "Running Monte Carlo simulation number 390.\n",
      "Running Monte Carlo simulation number 400.\n",
      "Running Monte Carlo simulation number 410.\n",
      "Running Monte Carlo simulation number 420.\n",
      "Running Monte Carlo simulation number 430.\n",
      "Running Monte Carlo simulation number 440.\n",
      "Running Monte Carlo simulation number 450.\n",
      "Running Monte Carlo simulation number 460.\n",
      "Running Monte Carlo simulation number 470.\n",
      "Running Monte Carlo simulation number 480.\n",
      "Running Monte Carlo simulation number 490.\n"
     ]
    },
    {
     "data": {
      "text/html": [
       "<div>\n",
       "<style scoped>\n",
       "    .dataframe tbody tr th:only-of-type {\n",
       "        vertical-align: middle;\n",
       "    }\n",
       "\n",
       "    .dataframe tbody tr th {\n",
       "        vertical-align: top;\n",
       "    }\n",
       "\n",
       "    .dataframe thead th {\n",
       "        text-align: right;\n",
       "    }\n",
       "</style>\n",
       "<table border=\"1\" class=\"dataframe\">\n",
       "  <thead>\n",
       "    <tr style=\"text-align: right;\">\n",
       "      <th></th>\n",
       "      <th>0</th>\n",
       "      <th>1</th>\n",
       "      <th>2</th>\n",
       "      <th>3</th>\n",
       "      <th>4</th>\n",
       "      <th>5</th>\n",
       "      <th>6</th>\n",
       "      <th>7</th>\n",
       "      <th>8</th>\n",
       "      <th>9</th>\n",
       "      <th>...</th>\n",
       "      <th>490</th>\n",
       "      <th>491</th>\n",
       "      <th>492</th>\n",
       "      <th>493</th>\n",
       "      <th>494</th>\n",
       "      <th>495</th>\n",
       "      <th>496</th>\n",
       "      <th>497</th>\n",
       "      <th>498</th>\n",
       "      <th>499</th>\n",
       "    </tr>\n",
       "  </thead>\n",
       "  <tbody>\n",
       "    <tr>\n",
       "      <th>0</th>\n",
       "      <td>1.000000</td>\n",
       "      <td>1.000000</td>\n",
       "      <td>1.000000</td>\n",
       "      <td>1.000000</td>\n",
       "      <td>1.000000</td>\n",
       "      <td>1.000000</td>\n",
       "      <td>1.000000</td>\n",
       "      <td>1.000000</td>\n",
       "      <td>1.000000</td>\n",
       "      <td>1.000000</td>\n",
       "      <td>...</td>\n",
       "      <td>1.000000</td>\n",
       "      <td>1.000000</td>\n",
       "      <td>1.000000</td>\n",
       "      <td>1.000000</td>\n",
       "      <td>1.000000</td>\n",
       "      <td>1.000000</td>\n",
       "      <td>1.000000</td>\n",
       "      <td>1.000000</td>\n",
       "      <td>1.000000</td>\n",
       "      <td>1.000000</td>\n",
       "    </tr>\n",
       "    <tr>\n",
       "      <th>1</th>\n",
       "      <td>0.997972</td>\n",
       "      <td>1.001063</td>\n",
       "      <td>0.991053</td>\n",
       "      <td>0.999146</td>\n",
       "      <td>0.999900</td>\n",
       "      <td>1.003409</td>\n",
       "      <td>1.008985</td>\n",
       "      <td>0.996948</td>\n",
       "      <td>1.001344</td>\n",
       "      <td>0.993847</td>\n",
       "      <td>...</td>\n",
       "      <td>0.996543</td>\n",
       "      <td>1.008759</td>\n",
       "      <td>0.995613</td>\n",
       "      <td>0.992500</td>\n",
       "      <td>0.990362</td>\n",
       "      <td>1.002170</td>\n",
       "      <td>1.004592</td>\n",
       "      <td>0.994286</td>\n",
       "      <td>1.005073</td>\n",
       "      <td>0.997809</td>\n",
       "    </tr>\n",
       "    <tr>\n",
       "      <th>2</th>\n",
       "      <td>0.988382</td>\n",
       "      <td>0.998347</td>\n",
       "      <td>0.984861</td>\n",
       "      <td>0.976049</td>\n",
       "      <td>0.999385</td>\n",
       "      <td>1.005493</td>\n",
       "      <td>1.019456</td>\n",
       "      <td>0.987207</td>\n",
       "      <td>0.994768</td>\n",
       "      <td>1.002628</td>\n",
       "      <td>...</td>\n",
       "      <td>0.992195</td>\n",
       "      <td>1.012552</td>\n",
       "      <td>0.999887</td>\n",
       "      <td>0.986896</td>\n",
       "      <td>0.991360</td>\n",
       "      <td>1.011959</td>\n",
       "      <td>1.000004</td>\n",
       "      <td>1.000372</td>\n",
       "      <td>0.992239</td>\n",
       "      <td>0.998476</td>\n",
       "    </tr>\n",
       "    <tr>\n",
       "      <th>3</th>\n",
       "      <td>0.989911</td>\n",
       "      <td>1.004533</td>\n",
       "      <td>0.983002</td>\n",
       "      <td>0.976821</td>\n",
       "      <td>1.002517</td>\n",
       "      <td>1.003372</td>\n",
       "      <td>1.020982</td>\n",
       "      <td>0.984767</td>\n",
       "      <td>1.005099</td>\n",
       "      <td>1.013426</td>\n",
       "      <td>...</td>\n",
       "      <td>0.993833</td>\n",
       "      <td>1.012588</td>\n",
       "      <td>0.994843</td>\n",
       "      <td>0.981920</td>\n",
       "      <td>0.989989</td>\n",
       "      <td>1.017910</td>\n",
       "      <td>0.988363</td>\n",
       "      <td>0.993538</td>\n",
       "      <td>0.989067</td>\n",
       "      <td>1.001262</td>\n",
       "    </tr>\n",
       "    <tr>\n",
       "      <th>4</th>\n",
       "      <td>0.989896</td>\n",
       "      <td>0.999399</td>\n",
       "      <td>0.982056</td>\n",
       "      <td>0.978209</td>\n",
       "      <td>1.008570</td>\n",
       "      <td>1.004761</td>\n",
       "      <td>1.018903</td>\n",
       "      <td>0.990531</td>\n",
       "      <td>1.001728</td>\n",
       "      <td>1.018155</td>\n",
       "      <td>...</td>\n",
       "      <td>0.994465</td>\n",
       "      <td>1.004864</td>\n",
       "      <td>0.994351</td>\n",
       "      <td>0.987965</td>\n",
       "      <td>0.996390</td>\n",
       "      <td>1.020142</td>\n",
       "      <td>0.983357</td>\n",
       "      <td>1.005194</td>\n",
       "      <td>0.990593</td>\n",
       "      <td>0.997683</td>\n",
       "    </tr>\n",
       "    <tr>\n",
       "      <th>...</th>\n",
       "      <td>...</td>\n",
       "      <td>...</td>\n",
       "      <td>...</td>\n",
       "      <td>...</td>\n",
       "      <td>...</td>\n",
       "      <td>...</td>\n",
       "      <td>...</td>\n",
       "      <td>...</td>\n",
       "      <td>...</td>\n",
       "      <td>...</td>\n",
       "      <td>...</td>\n",
       "      <td>...</td>\n",
       "      <td>...</td>\n",
       "      <td>...</td>\n",
       "      <td>...</td>\n",
       "      <td>...</td>\n",
       "      <td>...</td>\n",
       "      <td>...</td>\n",
       "      <td>...</td>\n",
       "      <td>...</td>\n",
       "      <td>...</td>\n",
       "    </tr>\n",
       "    <tr>\n",
       "      <th>7556</th>\n",
       "      <td>7.004559</td>\n",
       "      <td>3.763102</td>\n",
       "      <td>13.061196</td>\n",
       "      <td>11.055654</td>\n",
       "      <td>6.053656</td>\n",
       "      <td>8.044882</td>\n",
       "      <td>3.564077</td>\n",
       "      <td>4.085060</td>\n",
       "      <td>3.866172</td>\n",
       "      <td>7.679301</td>\n",
       "      <td>...</td>\n",
       "      <td>6.370361</td>\n",
       "      <td>3.465030</td>\n",
       "      <td>12.929051</td>\n",
       "      <td>3.651900</td>\n",
       "      <td>7.397597</td>\n",
       "      <td>15.664773</td>\n",
       "      <td>6.393001</td>\n",
       "      <td>8.155286</td>\n",
       "      <td>8.285877</td>\n",
       "      <td>5.384181</td>\n",
       "    </tr>\n",
       "    <tr>\n",
       "      <th>7557</th>\n",
       "      <td>6.993698</td>\n",
       "      <td>3.754940</td>\n",
       "      <td>12.958358</td>\n",
       "      <td>11.085476</td>\n",
       "      <td>6.083063</td>\n",
       "      <td>7.994257</td>\n",
       "      <td>3.546753</td>\n",
       "      <td>4.077206</td>\n",
       "      <td>3.862771</td>\n",
       "      <td>7.571669</td>\n",
       "      <td>...</td>\n",
       "      <td>6.361141</td>\n",
       "      <td>3.455735</td>\n",
       "      <td>12.994411</td>\n",
       "      <td>3.663066</td>\n",
       "      <td>7.496133</td>\n",
       "      <td>15.622403</td>\n",
       "      <td>6.464623</td>\n",
       "      <td>8.072508</td>\n",
       "      <td>8.225624</td>\n",
       "      <td>5.395450</td>\n",
       "    </tr>\n",
       "    <tr>\n",
       "      <th>7558</th>\n",
       "      <td>6.965715</td>\n",
       "      <td>3.766389</td>\n",
       "      <td>13.043150</td>\n",
       "      <td>11.245654</td>\n",
       "      <td>6.052789</td>\n",
       "      <td>7.998083</td>\n",
       "      <td>3.530093</td>\n",
       "      <td>4.052598</td>\n",
       "      <td>3.858155</td>\n",
       "      <td>7.541608</td>\n",
       "      <td>...</td>\n",
       "      <td>6.442914</td>\n",
       "      <td>3.414701</td>\n",
       "      <td>12.976616</td>\n",
       "      <td>3.706602</td>\n",
       "      <td>7.484656</td>\n",
       "      <td>15.709482</td>\n",
       "      <td>6.512580</td>\n",
       "      <td>8.047119</td>\n",
       "      <td>8.216675</td>\n",
       "      <td>5.387014</td>\n",
       "    </tr>\n",
       "    <tr>\n",
       "      <th>7559</th>\n",
       "      <td>6.978704</td>\n",
       "      <td>3.778370</td>\n",
       "      <td>12.993521</td>\n",
       "      <td>11.263667</td>\n",
       "      <td>6.039110</td>\n",
       "      <td>7.949583</td>\n",
       "      <td>3.512334</td>\n",
       "      <td>4.066581</td>\n",
       "      <td>3.850923</td>\n",
       "      <td>7.548522</td>\n",
       "      <td>...</td>\n",
       "      <td>6.471881</td>\n",
       "      <td>3.408797</td>\n",
       "      <td>13.076295</td>\n",
       "      <td>3.724728</td>\n",
       "      <td>7.535505</td>\n",
       "      <td>15.679012</td>\n",
       "      <td>6.580513</td>\n",
       "      <td>8.010194</td>\n",
       "      <td>8.320392</td>\n",
       "      <td>5.432047</td>\n",
       "    </tr>\n",
       "    <tr>\n",
       "      <th>7560</th>\n",
       "      <td>7.016720</td>\n",
       "      <td>3.801161</td>\n",
       "      <td>12.998719</td>\n",
       "      <td>11.375853</td>\n",
       "      <td>6.044224</td>\n",
       "      <td>7.966481</td>\n",
       "      <td>3.543636</td>\n",
       "      <td>4.090779</td>\n",
       "      <td>3.837146</td>\n",
       "      <td>7.533961</td>\n",
       "      <td>...</td>\n",
       "      <td>6.433964</td>\n",
       "      <td>3.423352</td>\n",
       "      <td>13.025951</td>\n",
       "      <td>3.720352</td>\n",
       "      <td>7.546152</td>\n",
       "      <td>15.701217</td>\n",
       "      <td>6.522791</td>\n",
       "      <td>8.021049</td>\n",
       "      <td>8.360769</td>\n",
       "      <td>5.433402</td>\n",
       "    </tr>\n",
       "  </tbody>\n",
       "</table>\n",
       "<p>7561 rows × 500 columns</p>\n",
       "</div>"
      ],
      "text/plain": [
       "           0         1          2          3         4         5         6    \\\n",
       "0     1.000000  1.000000   1.000000   1.000000  1.000000  1.000000  1.000000   \n",
       "1     0.997972  1.001063   0.991053   0.999146  0.999900  1.003409  1.008985   \n",
       "2     0.988382  0.998347   0.984861   0.976049  0.999385  1.005493  1.019456   \n",
       "3     0.989911  1.004533   0.983002   0.976821  1.002517  1.003372  1.020982   \n",
       "4     0.989896  0.999399   0.982056   0.978209  1.008570  1.004761  1.018903   \n",
       "...        ...       ...        ...        ...       ...       ...       ...   \n",
       "7556  7.004559  3.763102  13.061196  11.055654  6.053656  8.044882  3.564077   \n",
       "7557  6.993698  3.754940  12.958358  11.085476  6.083063  7.994257  3.546753   \n",
       "7558  6.965715  3.766389  13.043150  11.245654  6.052789  7.998083  3.530093   \n",
       "7559  6.978704  3.778370  12.993521  11.263667  6.039110  7.949583  3.512334   \n",
       "7560  7.016720  3.801161  12.998719  11.375853  6.044224  7.966481  3.543636   \n",
       "\n",
       "           7         8         9    ...       490       491        492  \\\n",
       "0     1.000000  1.000000  1.000000  ...  1.000000  1.000000   1.000000   \n",
       "1     0.996948  1.001344  0.993847  ...  0.996543  1.008759   0.995613   \n",
       "2     0.987207  0.994768  1.002628  ...  0.992195  1.012552   0.999887   \n",
       "3     0.984767  1.005099  1.013426  ...  0.993833  1.012588   0.994843   \n",
       "4     0.990531  1.001728  1.018155  ...  0.994465  1.004864   0.994351   \n",
       "...        ...       ...       ...  ...       ...       ...        ...   \n",
       "7556  4.085060  3.866172  7.679301  ...  6.370361  3.465030  12.929051   \n",
       "7557  4.077206  3.862771  7.571669  ...  6.361141  3.455735  12.994411   \n",
       "7558  4.052598  3.858155  7.541608  ...  6.442914  3.414701  12.976616   \n",
       "7559  4.066581  3.850923  7.548522  ...  6.471881  3.408797  13.076295   \n",
       "7560  4.090779  3.837146  7.533961  ...  6.433964  3.423352  13.025951   \n",
       "\n",
       "           493       494        495       496       497       498       499  \n",
       "0     1.000000  1.000000   1.000000  1.000000  1.000000  1.000000  1.000000  \n",
       "1     0.992500  0.990362   1.002170  1.004592  0.994286  1.005073  0.997809  \n",
       "2     0.986896  0.991360   1.011959  1.000004  1.000372  0.992239  0.998476  \n",
       "3     0.981920  0.989989   1.017910  0.988363  0.993538  0.989067  1.001262  \n",
       "4     0.987965  0.996390   1.020142  0.983357  1.005194  0.990593  0.997683  \n",
       "...        ...       ...        ...       ...       ...       ...       ...  \n",
       "7556  3.651900  7.397597  15.664773  6.393001  8.155286  8.285877  5.384181  \n",
       "7557  3.663066  7.496133  15.622403  6.464623  8.072508  8.225624  5.395450  \n",
       "7558  3.706602  7.484656  15.709482  6.512580  8.047119  8.216675  5.387014  \n",
       "7559  3.724728  7.535505  15.679012  6.580513  8.010194  8.320392  5.432047  \n",
       "7560  3.720352  7.546152  15.701217  6.522791  8.021049  8.360769  5.433402  \n",
       "\n",
       "[7561 rows x 500 columns]"
      ]
     },
     "execution_count": 32,
     "metadata": {},
     "output_type": "execute_result"
    }
   ],
   "source": [
    "# Run the Monte Carlo simulation to forecast 30 years cumulative returns\n",
    "MC_30year.calc_cumulative_return()"
   ]
  },
  {
   "cell_type": "code",
   "execution_count": 36,
   "metadata": {},
   "outputs": [
    {
     "name": "stdout",
     "output_type": "stream",
     "text": [
      "Running Monte Carlo simulation number 0.\n",
      "Running Monte Carlo simulation number 10.\n",
      "Running Monte Carlo simulation number 20.\n",
      "Running Monte Carlo simulation number 30.\n",
      "Running Monte Carlo simulation number 40.\n",
      "Running Monte Carlo simulation number 50.\n",
      "Running Monte Carlo simulation number 60.\n",
      "Running Monte Carlo simulation number 70.\n",
      "Running Monte Carlo simulation number 80.\n",
      "Running Monte Carlo simulation number 90.\n",
      "Running Monte Carlo simulation number 100.\n",
      "Running Monte Carlo simulation number 110.\n",
      "Running Monte Carlo simulation number 120.\n",
      "Running Monte Carlo simulation number 130.\n",
      "Running Monte Carlo simulation number 140.\n",
      "Running Monte Carlo simulation number 150.\n",
      "Running Monte Carlo simulation number 160.\n",
      "Running Monte Carlo simulation number 170.\n",
      "Running Monte Carlo simulation number 180.\n",
      "Running Monte Carlo simulation number 190.\n",
      "Running Monte Carlo simulation number 200.\n",
      "Running Monte Carlo simulation number 210.\n",
      "Running Monte Carlo simulation number 220.\n",
      "Running Monte Carlo simulation number 230.\n",
      "Running Monte Carlo simulation number 240.\n",
      "Running Monte Carlo simulation number 250.\n",
      "Running Monte Carlo simulation number 260.\n",
      "Running Monte Carlo simulation number 270.\n",
      "Running Monte Carlo simulation number 280.\n",
      "Running Monte Carlo simulation number 290.\n",
      "Running Monte Carlo simulation number 300.\n",
      "Running Monte Carlo simulation number 310.\n",
      "Running Monte Carlo simulation number 320.\n",
      "Running Monte Carlo simulation number 330.\n",
      "Running Monte Carlo simulation number 340.\n",
      "Running Monte Carlo simulation number 350.\n",
      "Running Monte Carlo simulation number 360.\n",
      "Running Monte Carlo simulation number 370.\n",
      "Running Monte Carlo simulation number 380.\n",
      "Running Monte Carlo simulation number 390.\n",
      "Running Monte Carlo simulation number 400.\n",
      "Running Monte Carlo simulation number 410.\n",
      "Running Monte Carlo simulation number 420.\n",
      "Running Monte Carlo simulation number 430.\n",
      "Running Monte Carlo simulation number 440.\n",
      "Running Monte Carlo simulation number 450.\n",
      "Running Monte Carlo simulation number 460.\n",
      "Running Monte Carlo simulation number 470.\n",
      "Running Monte Carlo simulation number 480.\n",
      "Running Monte Carlo simulation number 490.\n"
     ]
    },
    {
     "data": {
      "text/plain": [
       "<AxesSubplot:title={'center':'500 Simulations of Cumulative Portfolio Return Trajectories Over the Next 7560 Trading Days.'}>"
      ]
     },
     "execution_count": 36,
     "metadata": {},
     "output_type": "execute_result"
    },
    {
     "data": {
      "image/png": "[encoded data removed]",
      "text/plain": [
       "<Figure size 432x288 with 1 Axes>"
      ]
     },
     "metadata": {
      "needs_background": "light"
     },
     "output_type": "display_data"
    }
   ],
   "source": [
    "# Visualize the 30-year Monte Carlo simulation by creating an\n",
    "# overlay line plot\n",
    "\n",
    "MC_30year.plot_simulation()\n"
   ]
  },
  {
   "cell_type": "markdown",
   "metadata": {},
   "source": [
    "#### Step 3: Plot the probability distribution of the Monte Carlo simulation."
   ]
  },
  {
   "cell_type": "code",
   "execution_count": 37,
   "metadata": {},
   "outputs": [
    {
     "data": {
      "text/plain": [
       "<AxesSubplot:title={'center':'Distribution of Final Cumuluative Returns Across All 500 Simulations'}, ylabel='Frequency'>"
      ]
     },
     "execution_count": 37,
     "metadata": {},
     "output_type": "execute_result"
    },
    {
     "data": {
      "image/png": "[encoded data removed]",
      "text/plain": [
       "<Figure size 432x288 with 1 Axes>"
      ]
     },
     "metadata": {
      "needs_background": "light"
     },
     "output_type": "display_data"
    }
   ],
   "source": [
    "# Visualize the probability distribution of the 30-year Monte Carlo simulation \n",
    "MC_30year.plot_distribution()\n"
   ]
  },
  {
   "cell_type": "markdown",
   "metadata": {},
   "source": [
    "#### Step 4: Generate the summary statistics for the Monte Carlo simulation."
   ]
  },
  {
   "cell_type": "code",
   "execution_count": 38,
   "metadata": {},
   "outputs": [
    {
     "name": "stdout",
     "output_type": "stream",
     "text": [
      "count           500.000000\n",
      "mean             14.715885\n",
      "std              12.293683\n",
      "min               1.362270\n",
      "25%               6.546365\n",
      "50%              11.078938\n",
      "75%              17.811532\n",
      "max              91.997608\n",
      "95% CI Lower      2.993498\n",
      "95% CI Upper     49.387847\n",
      "Name: 7560, dtype: float64\n"
     ]
    }
   ],
   "source": [
    "# Generate summary statistics from the 30-year Monte Carlo simulation results\n",
    "# Save the results as a variable\n",
    "MC_summary_stats = MC_30year.summarize_cumulative_return()\n",
    "\n",
    "\n",
    "# Review the 30-year Monte Carlo summary statistics\n",
    "print(MC_summary_stats)\n"
   ]
  },
  {
   "cell_type": "markdown",
   "metadata": {},
   "source": [
    "### Analyze the Retirement Portfolio Forecasts\n",
    "\n",
    "Using the current value of only the stock and bond portion of the member's portfolio and the summary statistics that you generated from the Monte Carlo simulation, answer the following question in your Jupyter notebook:\n",
    "\n",
    "-  What are the lower and upper bounds for the expected value of the portfolio with a 95% confidence interval?\n"
   ]
  },
  {
   "cell_type": "code",
   "execution_count": 39,
   "metadata": {},
   "outputs": [
    {
     "name": "stdout",
     "output_type": "stream",
     "text": [
      "60690\n"
     ]
    }
   ],
   "source": [
    "# Print the current balance of the stock and bond portion of the members portfolio\n",
    "print(round(total_stocks_bonds))\n"
   ]
  },
  {
   "cell_type": "code",
   "execution_count": 41,
   "metadata": {},
   "outputs": [
    {
     "name": "stdout",
     "output_type": "stream",
     "text": [
      " There is a 95% chance that this portfolio will range between $ 181673.89 and $ 2997323.76 over the next 30years.\n"
     ]
    }
   ],
   "source": [
    "# Use the lower and upper `95%` confidence intervals to calculate the range of the possible outcomes for the current stock/bond portfolio\n",
    "ci_lower_thirty_cumulative_return = MC_summary_stats[8] * total_stocks_bonds\n",
    "ci_upper_thirty_cumulative_return = MC_summary_stats[9] * total_stocks_bonds\n",
    "\n",
    "# Print the result of your calculations\n",
    "print(f\" There is a 95% chance that this portfolio will range\"\n",
    "     f\" between ${ci_lower_thirty_cumulative_return: .2f} and ${ci_upper_thirty_cumulative_return: .2f}\"\n",
    "     f\" over the next 30years.\")\n"
   ]
  },
  {
   "cell_type": "markdown",
   "metadata": {},
   "source": [
    "### Forecast Cumulative Returns in 10 Years\n",
    "\n",
    "The CTO of the credit union is impressed with your work on these planning tools but wonders if 30 years is a long time to wait until retirement. So, your next task is to adjust the retirement portfolio and run a new Monte Carlo simulation to find out if the changes will allow members to retire earlier.\n",
    "\n",
    "For this new Monte Carlo simulation, do the following: \n",
    "\n",
    "- Forecast the cumulative returns for 10 years from now. Because of the shortened investment horizon (30 years to 10 years), the portfolio needs to invest more heavily in the riskier asset&mdash;that is, stock&mdash;to help accumulate wealth for retirement. \n",
    "\n",
    "- Adjust the weights of the retirement portfolio so that the composition for the Monte Carlo simulation consists of 20% bonds and 80% stocks. \n",
    "\n",
    "- Run the simulation over 500 samples, and use the same data that the API call to Alpaca generated.\n",
    "\n",
    "- Based on the new Monte Carlo simulation, answer the following questions in your Jupyter notebook:\n",
    "\n",
    "    - Using the current value of only the stock and bond portion of the member's portfolio and the summary statistics that you generated from the new Monte Carlo simulation, what are the lower and upper bounds for the expected value of the portfolio (with the new weights) with a 95% confidence interval?\n",
    "\n",
    "    - Will weighting the portfolio more heavily toward stocks allow the credit union members to retire after only 10 years?\n"
   ]
  },
  {
   "cell_type": "code",
   "execution_count": 42,
   "metadata": {},
   "outputs": [
    {
     "data": {
      "text/html": [
       "<div>\n",
       "<style scoped>\n",
       "    .dataframe tbody tr th:only-of-type {\n",
       "        vertical-align: middle;\n",
       "    }\n",
       "\n",
       "    .dataframe tbody tr th {\n",
       "        vertical-align: top;\n",
       "    }\n",
       "\n",
       "    .dataframe thead tr th {\n",
       "        text-align: left;\n",
       "    }\n",
       "\n",
       "    .dataframe thead tr:last-of-type th {\n",
       "        text-align: right;\n",
       "    }\n",
       "</style>\n",
       "<table border=\"1\" class=\"dataframe\">\n",
       "  <thead>\n",
       "    <tr>\n",
       "      <th></th>\n",
       "      <th colspan=\"6\" halign=\"left\">AGG</th>\n",
       "      <th colspan=\"6\" halign=\"left\">SPY</th>\n",
       "    </tr>\n",
       "    <tr>\n",
       "      <th></th>\n",
       "      <th>open</th>\n",
       "      <th>high</th>\n",
       "      <th>low</th>\n",
       "      <th>close</th>\n",
       "      <th>volume</th>\n",
       "      <th>daily_return</th>\n",
       "      <th>open</th>\n",
       "      <th>high</th>\n",
       "      <th>low</th>\n",
       "      <th>close</th>\n",
       "      <th>volume</th>\n",
       "      <th>daily_return</th>\n",
       "    </tr>\n",
       "    <tr>\n",
       "      <th>time</th>\n",
       "      <th></th>\n",
       "      <th></th>\n",
       "      <th></th>\n",
       "      <th></th>\n",
       "      <th></th>\n",
       "      <th></th>\n",
       "      <th></th>\n",
       "      <th></th>\n",
       "      <th></th>\n",
       "      <th></th>\n",
       "      <th></th>\n",
       "      <th></th>\n",
       "    </tr>\n",
       "  </thead>\n",
       "  <tbody>\n",
       "    <tr>\n",
       "      <th>2017-05-01 00:00:00-04:00</th>\n",
       "      <td>108.86</td>\n",
       "      <td>108.9599</td>\n",
       "      <td>108.620</td>\n",
       "      <td>108.735</td>\n",
       "      <td>2335646.0</td>\n",
       "      <td>NaN</td>\n",
       "      <td>238.69</td>\n",
       "      <td>239.1700</td>\n",
       "      <td>238.195</td>\n",
       "      <td>238.65</td>\n",
       "      <td>38750688</td>\n",
       "      <td>NaN</td>\n",
       "    </tr>\n",
       "    <tr>\n",
       "      <th>2017-05-02 00:00:00-04:00</th>\n",
       "      <td>108.68</td>\n",
       "      <td>108.9400</td>\n",
       "      <td>108.679</td>\n",
       "      <td>108.890</td>\n",
       "      <td>2570794.0</td>\n",
       "      <td>0.001425</td>\n",
       "      <td>238.84</td>\n",
       "      <td>238.9800</td>\n",
       "      <td>238.300</td>\n",
       "      <td>238.79</td>\n",
       "      <td>39563850</td>\n",
       "      <td>0.000587</td>\n",
       "    </tr>\n",
       "    <tr>\n",
       "      <th>2017-05-03 00:00:00-04:00</th>\n",
       "      <td>108.97</td>\n",
       "      <td>108.9900</td>\n",
       "      <td>108.770</td>\n",
       "      <td>108.795</td>\n",
       "      <td>1765578.0</td>\n",
       "      <td>-0.000872</td>\n",
       "      <td>238.32</td>\n",
       "      <td>238.8775</td>\n",
       "      <td>237.700</td>\n",
       "      <td>238.52</td>\n",
       "      <td>47292627</td>\n",
       "      <td>-0.001131</td>\n",
       "    </tr>\n",
       "    <tr>\n",
       "      <th>2017-05-04 00:00:00-04:00</th>\n",
       "      <td>108.55</td>\n",
       "      <td>108.7000</td>\n",
       "      <td>108.550</td>\n",
       "      <td>108.665</td>\n",
       "      <td>1789624.0</td>\n",
       "      <td>-0.001195</td>\n",
       "      <td>238.83</td>\n",
       "      <td>238.9225</td>\n",
       "      <td>237.780</td>\n",
       "      <td>238.75</td>\n",
       "      <td>46170233</td>\n",
       "      <td>0.000964</td>\n",
       "    </tr>\n",
       "    <tr>\n",
       "      <th>2017-05-05 00:00:00-04:00</th>\n",
       "      <td>108.72</td>\n",
       "      <td>108.7400</td>\n",
       "      <td>108.570</td>\n",
       "      <td>108.720</td>\n",
       "      <td>1287794.0</td>\n",
       "      <td>0.000506</td>\n",
       "      <td>239.18</td>\n",
       "      <td>239.7200</td>\n",
       "      <td>238.680</td>\n",
       "      <td>239.72</td>\n",
       "      <td>43733544</td>\n",
       "      <td>0.004063</td>\n",
       "    </tr>\n",
       "  </tbody>\n",
       "</table>\n",
       "</div>"
      ],
      "text/plain": [
       "                              AGG                                         \\\n",
       "                             open      high      low    close     volume   \n",
       "time                                                                       \n",
       "2017-05-01 00:00:00-04:00  108.86  108.9599  108.620  108.735  2335646.0   \n",
       "2017-05-02 00:00:00-04:00  108.68  108.9400  108.679  108.890  2570794.0   \n",
       "2017-05-03 00:00:00-04:00  108.97  108.9900  108.770  108.795  1765578.0   \n",
       "2017-05-04 00:00:00-04:00  108.55  108.7000  108.550  108.665  1789624.0   \n",
       "2017-05-05 00:00:00-04:00  108.72  108.7400  108.570  108.720  1287794.0   \n",
       "\n",
       "                                           SPY                             \\\n",
       "                          daily_return    open      high      low   close   \n",
       "time                                                                        \n",
       "2017-05-01 00:00:00-04:00          NaN  238.69  239.1700  238.195  238.65   \n",
       "2017-05-02 00:00:00-04:00     0.001425  238.84  238.9800  238.300  238.79   \n",
       "2017-05-03 00:00:00-04:00    -0.000872  238.32  238.8775  237.700  238.52   \n",
       "2017-05-04 00:00:00-04:00    -0.001195  238.83  238.9225  237.780  238.75   \n",
       "2017-05-05 00:00:00-04:00     0.000506  239.18  239.7200  238.680  239.72   \n",
       "\n",
       "                                                  \n",
       "                             volume daily_return  \n",
       "time                                              \n",
       "2017-05-01 00:00:00-04:00  38750688          NaN  \n",
       "2017-05-02 00:00:00-04:00  39563850     0.000587  \n",
       "2017-05-03 00:00:00-04:00  47292627    -0.001131  \n",
       "2017-05-04 00:00:00-04:00  46170233     0.000964  \n",
       "2017-05-05 00:00:00-04:00  43733544     0.004063  "
      ]
     },
     "execution_count": 42,
     "metadata": {},
     "output_type": "execute_result"
    }
   ],
   "source": [
    "# Configure a Monte Carlo simulation to forecast 10 years cumulative returns\n",
    "# The weights should be split 20% to AGG and 80% to SPY.\n",
    "# Run 500 samples.\n",
    "MC_10year = MCSimulation(\n",
    "    portfolio_data = pricing_df,\n",
    "    weights = [.2, .8],\n",
    "    num_simulation = 500,\n",
    "    num_trading_days = 252 * 10\n",
    ")\n",
    "\n",
    "# Review the simulation input data\n",
    "MC_10year.portfolio_data.head()\n"
   ]
  },
  {
   "cell_type": "code",
   "execution_count": 43,
   "metadata": {},
   "outputs": [
    {
     "name": "stdout",
     "output_type": "stream",
     "text": [
      "Running Monte Carlo simulation number 0.\n",
      "Running Monte Carlo simulation number 10.\n",
      "Running Monte Carlo simulation number 20.\n",
      "Running Monte Carlo simulation number 30.\n",
      "Running Monte Carlo simulation number 40.\n",
      "Running Monte Carlo simulation number 50.\n",
      "Running Monte Carlo simulation number 60.\n",
      "Running Monte Carlo simulation number 70.\n",
      "Running Monte Carlo simulation number 80.\n",
      "Running Monte Carlo simulation number 90.\n",
      "Running Monte Carlo simulation number 100.\n",
      "Running Monte Carlo simulation number 110.\n",
      "Running Monte Carlo simulation number 120.\n",
      "Running Monte Carlo simulation number 130.\n",
      "Running Monte Carlo simulation number 140.\n",
      "Running Monte Carlo simulation number 150.\n",
      "Running Monte Carlo simulation number 160.\n",
      "Running Monte Carlo simulation number 170.\n",
      "Running Monte Carlo simulation number 180.\n",
      "Running Monte Carlo simulation number 190.\n",
      "Running Monte Carlo simulation number 200.\n",
      "Running Monte Carlo simulation number 210.\n",
      "Running Monte Carlo simulation number 220.\n",
      "Running Monte Carlo simulation number 230.\n",
      "Running Monte Carlo simulation number 240.\n",
      "Running Monte Carlo simulation number 250.\n",
      "Running Monte Carlo simulation number 260.\n",
      "Running Monte Carlo simulation number 270.\n",
      "Running Monte Carlo simulation number 280.\n",
      "Running Monte Carlo simulation number 290.\n",
      "Running Monte Carlo simulation number 300.\n",
      "Running Monte Carlo simulation number 310.\n",
      "Running Monte Carlo simulation number 320.\n",
      "Running Monte Carlo simulation number 330.\n",
      "Running Monte Carlo simulation number 340.\n",
      "Running Monte Carlo simulation number 350.\n",
      "Running Monte Carlo simulation number 360.\n",
      "Running Monte Carlo simulation number 370.\n",
      "Running Monte Carlo simulation number 380.\n",
      "Running Monte Carlo simulation number 390.\n",
      "Running Monte Carlo simulation number 400.\n",
      "Running Monte Carlo simulation number 410.\n",
      "Running Monte Carlo simulation number 420.\n",
      "Running Monte Carlo simulation number 430.\n",
      "Running Monte Carlo simulation number 440.\n",
      "Running Monte Carlo simulation number 450.\n",
      "Running Monte Carlo simulation number 460.\n",
      "Running Monte Carlo simulation number 470.\n",
      "Running Monte Carlo simulation number 480.\n",
      "Running Monte Carlo simulation number 490.\n"
     ]
    },
    {
     "data": {
      "text/html": [
       "<div>\n",
       "<style scoped>\n",
       "    .dataframe tbody tr th:only-of-type {\n",
       "        vertical-align: middle;\n",
       "    }\n",
       "\n",
       "    .dataframe tbody tr th {\n",
       "        vertical-align: top;\n",
       "    }\n",
       "\n",
       "    .dataframe thead th {\n",
       "        text-align: right;\n",
       "    }\n",
       "</style>\n",
       "<table border=\"1\" class=\"dataframe\">\n",
       "  <thead>\n",
       "    <tr style=\"text-align: right;\">\n",
       "      <th></th>\n",
       "      <th>0</th>\n",
       "      <th>1</th>\n",
       "      <th>2</th>\n",
       "      <th>3</th>\n",
       "      <th>4</th>\n",
       "      <th>5</th>\n",
       "      <th>6</th>\n",
       "      <th>7</th>\n",
       "      <th>8</th>\n",
       "      <th>9</th>\n",
       "      <th>...</th>\n",
       "      <th>490</th>\n",
       "      <th>491</th>\n",
       "      <th>492</th>\n",
       "      <th>493</th>\n",
       "      <th>494</th>\n",
       "      <th>495</th>\n",
       "      <th>496</th>\n",
       "      <th>497</th>\n",
       "      <th>498</th>\n",
       "      <th>499</th>\n",
       "    </tr>\n",
       "  </thead>\n",
       "  <tbody>\n",
       "    <tr>\n",
       "      <th>0</th>\n",
       "      <td>1.000000</td>\n",
       "      <td>1.000000</td>\n",
       "      <td>1.000000</td>\n",
       "      <td>1.000000</td>\n",
       "      <td>1.000000</td>\n",
       "      <td>1.000000</td>\n",
       "      <td>1.000000</td>\n",
       "      <td>1.000000</td>\n",
       "      <td>1.000000</td>\n",
       "      <td>1.000000</td>\n",
       "      <td>...</td>\n",
       "      <td>1.000000</td>\n",
       "      <td>1.000000</td>\n",
       "      <td>1.000000</td>\n",
       "      <td>1.000000</td>\n",
       "      <td>1.000000</td>\n",
       "      <td>1.000000</td>\n",
       "      <td>1.000000</td>\n",
       "      <td>1.000000</td>\n",
       "      <td>1.000000</td>\n",
       "      <td>1.000000</td>\n",
       "    </tr>\n",
       "    <tr>\n",
       "      <th>1</th>\n",
       "      <td>0.991624</td>\n",
       "      <td>0.986572</td>\n",
       "      <td>1.020178</td>\n",
       "      <td>1.002020</td>\n",
       "      <td>0.992205</td>\n",
       "      <td>0.997465</td>\n",
       "      <td>0.998517</td>\n",
       "      <td>0.998912</td>\n",
       "      <td>1.002496</td>\n",
       "      <td>1.018151</td>\n",
       "      <td>...</td>\n",
       "      <td>1.009902</td>\n",
       "      <td>1.025124</td>\n",
       "      <td>1.014163</td>\n",
       "      <td>1.006024</td>\n",
       "      <td>0.997862</td>\n",
       "      <td>1.011470</td>\n",
       "      <td>1.020914</td>\n",
       "      <td>0.998160</td>\n",
       "      <td>1.012797</td>\n",
       "      <td>0.997718</td>\n",
       "    </tr>\n",
       "    <tr>\n",
       "      <th>2</th>\n",
       "      <td>0.998706</td>\n",
       "      <td>0.994928</td>\n",
       "      <td>1.014799</td>\n",
       "      <td>1.001354</td>\n",
       "      <td>0.979033</td>\n",
       "      <td>1.002895</td>\n",
       "      <td>0.998572</td>\n",
       "      <td>1.006922</td>\n",
       "      <td>1.018794</td>\n",
       "      <td>1.008748</td>\n",
       "      <td>...</td>\n",
       "      <td>1.014833</td>\n",
       "      <td>1.028246</td>\n",
       "      <td>1.014578</td>\n",
       "      <td>0.998603</td>\n",
       "      <td>1.001959</td>\n",
       "      <td>1.007594</td>\n",
       "      <td>1.032664</td>\n",
       "      <td>1.008757</td>\n",
       "      <td>1.014078</td>\n",
       "      <td>0.991436</td>\n",
       "    </tr>\n",
       "    <tr>\n",
       "      <th>3</th>\n",
       "      <td>1.006031</td>\n",
       "      <td>0.975667</td>\n",
       "      <td>1.015945</td>\n",
       "      <td>1.021800</td>\n",
       "      <td>0.977911</td>\n",
       "      <td>1.016440</td>\n",
       "      <td>0.993930</td>\n",
       "      <td>1.000702</td>\n",
       "      <td>1.025793</td>\n",
       "      <td>1.005976</td>\n",
       "      <td>...</td>\n",
       "      <td>1.022321</td>\n",
       "      <td>1.019067</td>\n",
       "      <td>1.024427</td>\n",
       "      <td>0.986549</td>\n",
       "      <td>0.999037</td>\n",
       "      <td>1.008409</td>\n",
       "      <td>1.022457</td>\n",
       "      <td>0.995317</td>\n",
       "      <td>1.027632</td>\n",
       "      <td>0.985567</td>\n",
       "    </tr>\n",
       "    <tr>\n",
       "      <th>4</th>\n",
       "      <td>0.987517</td>\n",
       "      <td>1.002754</td>\n",
       "      <td>1.010370</td>\n",
       "      <td>1.011547</td>\n",
       "      <td>0.985173</td>\n",
       "      <td>1.027171</td>\n",
       "      <td>0.999695</td>\n",
       "      <td>0.996434</td>\n",
       "      <td>1.010686</td>\n",
       "      <td>1.007903</td>\n",
       "      <td>...</td>\n",
       "      <td>1.024406</td>\n",
       "      <td>1.018417</td>\n",
       "      <td>1.011827</td>\n",
       "      <td>0.972830</td>\n",
       "      <td>0.998367</td>\n",
       "      <td>1.003060</td>\n",
       "      <td>1.040554</td>\n",
       "      <td>1.006014</td>\n",
       "      <td>1.029966</td>\n",
       "      <td>0.962523</td>\n",
       "    </tr>\n",
       "    <tr>\n",
       "      <th>...</th>\n",
       "      <td>...</td>\n",
       "      <td>...</td>\n",
       "      <td>...</td>\n",
       "      <td>...</td>\n",
       "      <td>...</td>\n",
       "      <td>...</td>\n",
       "      <td>...</td>\n",
       "      <td>...</td>\n",
       "      <td>...</td>\n",
       "      <td>...</td>\n",
       "      <td>...</td>\n",
       "      <td>...</td>\n",
       "      <td>...</td>\n",
       "      <td>...</td>\n",
       "      <td>...</td>\n",
       "      <td>...</td>\n",
       "      <td>...</td>\n",
       "      <td>...</td>\n",
       "      <td>...</td>\n",
       "      <td>...</td>\n",
       "      <td>...</td>\n",
       "    </tr>\n",
       "    <tr>\n",
       "      <th>2516</th>\n",
       "      <td>2.332337</td>\n",
       "      <td>2.329576</td>\n",
       "      <td>3.769347</td>\n",
       "      <td>4.152633</td>\n",
       "      <td>2.137696</td>\n",
       "      <td>2.481351</td>\n",
       "      <td>2.146228</td>\n",
       "      <td>3.013997</td>\n",
       "      <td>1.431925</td>\n",
       "      <td>1.419281</td>\n",
       "      <td>...</td>\n",
       "      <td>2.858150</td>\n",
       "      <td>1.774234</td>\n",
       "      <td>1.079439</td>\n",
       "      <td>3.445968</td>\n",
       "      <td>1.781461</td>\n",
       "      <td>1.828006</td>\n",
       "      <td>4.759684</td>\n",
       "      <td>3.258670</td>\n",
       "      <td>4.603776</td>\n",
       "      <td>3.244654</td>\n",
       "    </tr>\n",
       "    <tr>\n",
       "      <th>2517</th>\n",
       "      <td>2.348183</td>\n",
       "      <td>2.332214</td>\n",
       "      <td>3.699361</td>\n",
       "      <td>4.161519</td>\n",
       "      <td>2.112357</td>\n",
       "      <td>2.483899</td>\n",
       "      <td>2.137709</td>\n",
       "      <td>3.010545</td>\n",
       "      <td>1.443457</td>\n",
       "      <td>1.377664</td>\n",
       "      <td>...</td>\n",
       "      <td>2.844970</td>\n",
       "      <td>1.787513</td>\n",
       "      <td>1.073763</td>\n",
       "      <td>3.450707</td>\n",
       "      <td>1.757829</td>\n",
       "      <td>1.853206</td>\n",
       "      <td>4.813918</td>\n",
       "      <td>3.233192</td>\n",
       "      <td>4.656972</td>\n",
       "      <td>3.235958</td>\n",
       "    </tr>\n",
       "    <tr>\n",
       "      <th>2518</th>\n",
       "      <td>2.352237</td>\n",
       "      <td>2.312815</td>\n",
       "      <td>3.683967</td>\n",
       "      <td>4.124719</td>\n",
       "      <td>2.095756</td>\n",
       "      <td>2.507725</td>\n",
       "      <td>2.115900</td>\n",
       "      <td>3.060912</td>\n",
       "      <td>1.461771</td>\n",
       "      <td>1.356322</td>\n",
       "      <td>...</td>\n",
       "      <td>2.780351</td>\n",
       "      <td>1.795991</td>\n",
       "      <td>1.060758</td>\n",
       "      <td>3.508814</td>\n",
       "      <td>1.763782</td>\n",
       "      <td>1.872603</td>\n",
       "      <td>4.843513</td>\n",
       "      <td>3.212781</td>\n",
       "      <td>4.703208</td>\n",
       "      <td>3.183408</td>\n",
       "    </tr>\n",
       "    <tr>\n",
       "      <th>2519</th>\n",
       "      <td>2.370031</td>\n",
       "      <td>2.305639</td>\n",
       "      <td>3.706189</td>\n",
       "      <td>4.163365</td>\n",
       "      <td>2.063326</td>\n",
       "      <td>2.503324</td>\n",
       "      <td>2.099224</td>\n",
       "      <td>3.074936</td>\n",
       "      <td>1.473297</td>\n",
       "      <td>1.371147</td>\n",
       "      <td>...</td>\n",
       "      <td>2.806404</td>\n",
       "      <td>1.805402</td>\n",
       "      <td>1.077486</td>\n",
       "      <td>3.569165</td>\n",
       "      <td>1.778095</td>\n",
       "      <td>1.851436</td>\n",
       "      <td>4.801979</td>\n",
       "      <td>3.200092</td>\n",
       "      <td>4.638320</td>\n",
       "      <td>3.241273</td>\n",
       "    </tr>\n",
       "    <tr>\n",
       "      <th>2520</th>\n",
       "      <td>2.402382</td>\n",
       "      <td>2.291227</td>\n",
       "      <td>3.712497</td>\n",
       "      <td>4.100650</td>\n",
       "      <td>2.059844</td>\n",
       "      <td>2.476447</td>\n",
       "      <td>2.129946</td>\n",
       "      <td>3.066827</td>\n",
       "      <td>1.469950</td>\n",
       "      <td>1.365877</td>\n",
       "      <td>...</td>\n",
       "      <td>2.848249</td>\n",
       "      <td>1.837744</td>\n",
       "      <td>1.085471</td>\n",
       "      <td>3.573133</td>\n",
       "      <td>1.753704</td>\n",
       "      <td>1.846177</td>\n",
       "      <td>4.798295</td>\n",
       "      <td>3.193799</td>\n",
       "      <td>4.729852</td>\n",
       "      <td>3.240599</td>\n",
       "    </tr>\n",
       "  </tbody>\n",
       "</table>\n",
       "<p>2521 rows × 500 columns</p>\n",
       "</div>"
      ],
      "text/plain": [
       "           0         1         2         3         4         5         6    \\\n",
       "0     1.000000  1.000000  1.000000  1.000000  1.000000  1.000000  1.000000   \n",
       "1     0.991624  0.986572  1.020178  1.002020  0.992205  0.997465  0.998517   \n",
       "2     0.998706  0.994928  1.014799  1.001354  0.979033  1.002895  0.998572   \n",
       "3     1.006031  0.975667  1.015945  1.021800  0.977911  1.016440  0.993930   \n",
       "4     0.987517  1.002754  1.010370  1.011547  0.985173  1.027171  0.999695   \n",
       "...        ...       ...       ...       ...       ...       ...       ...   \n",
       "2516  2.332337  2.329576  3.769347  4.152633  2.137696  2.481351  2.146228   \n",
       "2517  2.348183  2.332214  3.699361  4.161519  2.112357  2.483899  2.137709   \n",
       "2518  2.352237  2.312815  3.683967  4.124719  2.095756  2.507725  2.115900   \n",
       "2519  2.370031  2.305639  3.706189  4.163365  2.063326  2.503324  2.099224   \n",
       "2520  2.402382  2.291227  3.712497  4.100650  2.059844  2.476447  2.129946   \n",
       "\n",
       "           7         8         9    ...       490       491       492  \\\n",
       "0     1.000000  1.000000  1.000000  ...  1.000000  1.000000  1.000000   \n",
       "1     0.998912  1.002496  1.018151  ...  1.009902  1.025124  1.014163   \n",
       "2     1.006922  1.018794  1.008748  ...  1.014833  1.028246  1.014578   \n",
       "3     1.000702  1.025793  1.005976  ...  1.022321  1.019067  1.024427   \n",
       "4     0.996434  1.010686  1.007903  ...  1.024406  1.018417  1.011827   \n",
       "...        ...       ...       ...  ...       ...       ...       ...   \n",
       "2516  3.013997  1.431925  1.419281  ...  2.858150  1.774234  1.079439   \n",
       "2517  3.010545  1.443457  1.377664  ...  2.844970  1.787513  1.073763   \n",
       "2518  3.060912  1.461771  1.356322  ...  2.780351  1.795991  1.060758   \n",
       "2519  3.074936  1.473297  1.371147  ...  2.806404  1.805402  1.077486   \n",
       "2520  3.066827  1.469950  1.365877  ...  2.848249  1.837744  1.085471   \n",
       "\n",
       "           493       494       495       496       497       498       499  \n",
       "0     1.000000  1.000000  1.000000  1.000000  1.000000  1.000000  1.000000  \n",
       "1     1.006024  0.997862  1.011470  1.020914  0.998160  1.012797  0.997718  \n",
       "2     0.998603  1.001959  1.007594  1.032664  1.008757  1.014078  0.991436  \n",
       "3     0.986549  0.999037  1.008409  1.022457  0.995317  1.027632  0.985567  \n",
       "4     0.972830  0.998367  1.003060  1.040554  1.006014  1.029966  0.962523  \n",
       "...        ...       ...       ...       ...       ...       ...       ...  \n",
       "2516  3.445968  1.781461  1.828006  4.759684  3.258670  4.603776  3.244654  \n",
       "2517  3.450707  1.757829  1.853206  4.813918  3.233192  4.656972  3.235958  \n",
       "2518  3.508814  1.763782  1.872603  4.843513  3.212781  4.703208  3.183408  \n",
       "2519  3.569165  1.778095  1.851436  4.801979  3.200092  4.638320  3.241273  \n",
       "2520  3.573133  1.753704  1.846177  4.798295  3.193799  4.729852  3.240599  \n",
       "\n",
       "[2521 rows x 500 columns]"
      ]
     },
     "execution_count": 43,
     "metadata": {},
     "output_type": "execute_result"
    }
   ],
   "source": [
    "# Run the Monte Carlo simulation to forecast 10 years cumulative returns\n",
    "MC_10year.calc_cumulative_return()\n"
   ]
  },
  {
   "cell_type": "code",
   "execution_count": 44,
   "metadata": {},
   "outputs": [
    {
     "data": {
      "text/plain": [
       "<AxesSubplot:title={'center':'500 Simulations of Cumulative Portfolio Return Trajectories Over the Next 2520 Trading Days.'}>"
      ]
     },
     "execution_count": 44,
     "metadata": {},
     "output_type": "execute_result"
    },
    {
     "data": {
      "image/png": "[encoded data removed]",
      "text/plain": [
       "<Figure size 432x288 with 1 Axes>"
      ]
     },
     "metadata": {
      "needs_background": "light"
     },
     "output_type": "display_data"
    }
   ],
   "source": [
    "# Visualize the 10-year Monte Carlo simulation by creating an\n",
    "# overlay line plot\n",
    "MC_10year.plot_simulation()\n"
   ]
  },
  {
   "cell_type": "code",
   "execution_count": 47,
   "metadata": {},
   "outputs": [
    {
     "data": {
      "text/plain": [
       "<AxesSubplot:title={'center':'Distribution of Final Cumuluative Returns Across All 500 Simulations'}, ylabel='Frequency'>"
      ]
     },
     "execution_count": 47,
     "metadata": {},
     "output_type": "execute_result"
    },
    {
     "data": {
      "image/png": "[encoded data removed]",
      "text/plain": [
       "<Figure size 432x288 with 1 Axes>"
      ]
     },
     "metadata": {
      "needs_background": "light"
     },
     "output_type": "display_data"
    }
   ],
   "source": [
    "# Visualize the probability distribution of the 10-year Monte Carlo simulation \n",
    "# by plotting a histogram\n",
    "MC_10year.plot_distribution()\n"
   ]
  },
  {
   "cell_type": "code",
   "execution_count": 48,
   "metadata": {},
   "outputs": [
    {
     "name": "stdout",
     "output_type": "stream",
     "text": [
      "count           500.000000\n",
      "mean              3.018561\n",
      "std               1.777047\n",
      "min               0.398668\n",
      "25%               1.787494\n",
      "50%               2.583512\n",
      "75%               3.825110\n",
      "max              12.507959\n",
      "95% CI Lower      0.898421\n",
      "95% CI Upper      7.527963\n",
      "Name: 2520, dtype: float64\n"
     ]
    }
   ],
   "source": [
    "# Generate summary statistics from the 10-year Monte Carlo simulation results\n",
    "# Save the results as a variable\n",
    "MC_summary_stats = MC_10year.summarize_cumulative_return()\n",
    "\n",
    "\n",
    "# Review the 10-year Monte Carlo summary statistics\n",
    "print(MC_summary_stats)"
   ]
  },
  {
   "cell_type": "markdown",
   "metadata": {},
   "source": [
    "### Answer the following questions:"
   ]
  },
  {
   "cell_type": "markdown",
   "metadata": {},
   "source": [
    "#### Question: Using the current value of only the stock and bond portion of the member's portfolio and the summary statistics that you generated from the new Monte Carlo simulation, what are the lower and upper bounds for the expected value of the portfolio (with the new weights) with a 95% confidence interval?"
   ]
  },
  {
   "cell_type": "code",
   "execution_count": 49,
   "metadata": {},
   "outputs": [
    {
     "name": "stdout",
     "output_type": "stream",
     "text": [
      "60690\n"
     ]
    }
   ],
   "source": [
    "# Print the current balance of the stock and bond portion of the members portfolio\n",
    "\n",
    "print(round(total_stocks_bonds))"
   ]
  },
  {
   "cell_type": "code",
   "execution_count": 50,
   "metadata": {},
   "outputs": [
    {
     "name": "stdout",
     "output_type": "stream",
     "text": [
      "There is a 95% chance that this portfolio will will range between $ 54524.74 and $ 456868.32 over the next 10 years.\n"
     ]
    }
   ],
   "source": [
    "# Use the lower and upper `95%` confidence intervals to calculate the range of the possible outcomes for the current stock/bond portfolio\n",
    "ci_lower_ten_cumulative_return = MC_summary_stats[8] * total_stocks_bonds\n",
    "ci_upper_ten_cumulative_return = MC_summary_stats[9] * total_stocks_bonds\n",
    "\n",
    "# Print the result of your calculations\n",
    "print(f\"There is a 95% chance that this portfolio will will range between ${ci_lower_ten_cumulative_return: .2f} and ${ci_upper_ten_cumulative_return: .2f}\"\n",
    "     f\" over the next 10 years.\")\n"
   ]
  },
  {
   "cell_type": "markdown",
   "metadata": {},
   "source": [
    "#### Question: Will weighting the portfolio more heavily to stocks allow the credit union members to retire after only 10 years?"
   ]
  },
  {
   "cell_type": "raw",
   "metadata": {},
   "source": [
    "It does not allow the union member to retire aftter only 10 years."
   ]
  },
  {
   "cell_type": "code",
   "execution_count": null,
   "metadata": {},
   "outputs": [],
   "source": []
  }
 ],
 "metadata": {
  "kernelspec": {
   "display_name": "Python 3",
   "language": "python",
   "name": "python3"
  },
  "language_info": {
   "codemirror_mode": {
    "name": "ipython",
    "version": 3
   },
   "file_extension": ".py",
   "mimetype": "text/x-python",
   "name": "python",
   "nbconvert_exporter": "python",
   "pygments_lexer": "ipython3",
   "version": "3.8.8"
  }
 },
 "nbformat": 4,
 "nbformat_minor": 4
}
